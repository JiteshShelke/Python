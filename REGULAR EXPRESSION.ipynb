{
 "cells": [
  {
   "cell_type": "markdown",
   "id": "21e3eb11-bdb3-4eb3-a74e-4c365c786f1a",
   "metadata": {},
   "source": [
    "# AUTHOR : JITESH SHELKE"
   ]
  },
  {
   "cell_type": "markdown",
   "id": "6593d34e-944f-42a6-b019-f492bb0cbf00",
   "metadata": {},
   "source": [
    "# REGULAR EXPRESSION"
   ]
  },
  {
   "cell_type": "code",
   "execution_count": null,
   "id": "60de1caf-d15e-4023-b418-0769fc20da6d",
   "metadata": {},
   "outputs": [],
   "source": [
    "import re"
   ]
  },
  {
   "cell_type": "code",
   "execution_count": 18,
   "id": "1cc07bb7-1cc8-4741-a5c7-56de1a33f73e",
   "metadata": {},
   "outputs": [],
   "source": [
    "strr=\"hello i am jitesh shelke my mobile number is 9127039487 HELLO HelloOO HEloo89$$ helloHH89 jitesh09@gamil.com santoshshelke6088@gmail.com\""
   ]
  },
  {
   "cell_type": "markdown",
   "id": "3e3a0a33-6b6e-421c-bd9b-ea7dff03a76e",
   "metadata": {},
   "source": [
    "# re.match(pattern,collection)"
   ]
  },
  {
   "cell_type": "code",
   "execution_count": 10,
   "id": "86aece3c-4474-41ec-9963-7ddbf9fab307",
   "metadata": {},
   "outputs": [
    {
     "name": "stdout",
     "output_type": "stream",
     "text": [
      "0\n",
      "5\n",
      "hello\n"
     ]
    }
   ],
   "source": [
    "res=re.match(\"hello\",strr)\n",
    "res\n",
    "print(res.start())\n",
    "print(res.end())\n",
    "print(res.group())"
   ]
  },
  {
   "cell_type": "markdown",
   "id": "cef36ec8-a488-488e-a9e2-a75b1ed3bfc3",
   "metadata": {},
   "source": [
    "# re.fullmatch(pattern,collection)"
   ]
  },
  {
   "cell_type": "code",
   "execution_count": 17,
   "id": "f5559e48-34d3-431b-a39f-9d6715a21f79",
   "metadata": {},
   "outputs": [
    {
     "name": "stdout",
     "output_type": "stream",
     "text": [
      "<re.Match object; span=(0, 23), match='hello my name is jitesh'>\n"
     ]
    }
   ],
   "source": [
    "strr_new=\"hello my name is jitesh\"\n",
    "res=re.fullmatch(\"hello my name is jitesh\",strr_new)\n",
    "print(res)"
   ]
  },
  {
   "cell_type": "markdown",
   "id": "74ed2f31-0c6e-4ff4-b520-515faccfb7db",
   "metadata": {},
   "source": [
    "# re.search(pattern,collection)"
   ]
  },
  {
   "cell_type": "code",
   "execution_count": 19,
   "id": "28119db1-eea8-47da-b32b-2259cd205280",
   "metadata": {},
   "outputs": [
    {
     "name": "stdout",
     "output_type": "stream",
     "text": [
      "<re.Match object; span=(45, 55), match='9127039487'>\n"
     ]
    }
   ],
   "source": [
    "res=re.search(\"9127039487\",strr)\n",
    "print(res)"
   ]
  },
  {
   "cell_type": "markdown",
   "id": "faf47c91-46c9-4d27-9762-0ebac575186a",
   "metadata": {},
   "source": [
    "# re.sub(old_char,new_char,collection,count)"
   ]
  },
  {
   "cell_type": "code",
   "execution_count": 21,
   "id": "c9f0b67e-41d6-4aec-8178-3cee8b9fff3d",
   "metadata": {},
   "outputs": [
    {
     "data": {
      "text/plain": [
       "'hello i am jitesh shelke my mobile number is 1234567890 HELLO HelloOO HEloo89$$ helloHH89 jitesh09@gamil.com santoshshelke6088@gmail.com'"
      ]
     },
     "execution_count": 21,
     "metadata": {},
     "output_type": "execute_result"
    }
   ],
   "source": [
    "res=re.sub(\"9127039487\",\"1234567890\",strr)\n",
    "res"
   ]
  },
  {
   "cell_type": "markdown",
   "id": "76c27d84-85c6-446c-941b-0f89a398f942",
   "metadata": {},
   "source": [
    "# re.findall(pattern,collection)"
   ]
  },
  {
   "cell_type": "code",
   "execution_count": 3,
   "id": "50f7de00-2c50-4258-8c91-d822de042733",
   "metadata": {},
   "outputs": [
    {
     "data": {
      "text/plain": [
       "['jitesh09@gamil.com', 'santoshshelke6088@gmail.com']"
      ]
     },
     "execution_count": 3,
     "metadata": {},
     "output_type": "execute_result"
    }
   ],
   "source": [
    "res=re.findall('\\w+@{1}\\w+\\w+\\W{1}\\w+',strr)\n",
    "res"
   ]
  },
  {
   "cell_type": "code",
   "execution_count": 3,
   "id": "27c67985-8ac2-4a5a-b6c7-06a0df4db89e",
   "metadata": {},
   "outputs": [
    {
     "data": {
      "text/plain": [
       "['hello', 'hello']"
      ]
     },
     "execution_count": 3,
     "metadata": {},
     "output_type": "execute_result"
    }
   ],
   "source": [
    "res=re.findall('hello',strr)\n",
    "res"
   ]
  },
  {
   "cell_type": "code",
   "execution_count": 4,
   "id": "92e50ac6-6b7e-48a0-b6af-56149d2b9292",
   "metadata": {},
   "outputs": [
    {
     "data": {
      "text/plain": [
       "['hello i ',\n",
       " 'm jitesh shelke my mo',\n",
       " 'ile num',\n",
       " 'er is 9127039487 HELLO HelloOO HEloo89$$ helloHH89 jitesh09@g',\n",
       " 'mil.',\n",
       " 'om s',\n",
       " 'ntoshshelke6088@gm',\n",
       " 'il.',\n",
       " 'om']"
      ]
     },
     "execution_count": 4,
     "metadata": {},
     "output_type": "execute_result"
    }
   ],
   "source": [
    "res=re.findall('[^a,b,c]+',strr)\n",
    "res"
   ]
  },
  {
   "cell_type": "code",
   "execution_count": 5,
   "id": "d04fb47c-a251-4901-9662-61cdd9dd3fa5",
   "metadata": {},
   "outputs": [
    {
     "data": {
      "text/plain": [
       "['hello',\n",
       " 'i',\n",
       " 'am',\n",
       " 'jitesh',\n",
       " 'shelke',\n",
       " 'my',\n",
       " 'mobile',\n",
       " 'number',\n",
       " 'is',\n",
       " 'ello',\n",
       " 'loo',\n",
       " 'hello',\n",
       " 'jitesh',\n",
       " 'gamil',\n",
       " 'com',\n",
       " 'santoshshelke',\n",
       " 'gmail',\n",
       " 'com']"
      ]
     },
     "execution_count": 5,
     "metadata": {},
     "output_type": "execute_result"
    }
   ],
   "source": [
    "res=re.findall('[a-z]+',strr)  #ANY LOWER CASE\n",
    "res"
   ]
  },
  {
   "cell_type": "code",
   "execution_count": 6,
   "id": "f091db0a-3b16-4d70-acdd-55a29eb211d8",
   "metadata": {},
   "outputs": [
    {
     "data": {
      "text/plain": [
       "['hello',\n",
       " 'i',\n",
       " 'am',\n",
       " 'jitesh',\n",
       " 'shelke',\n",
       " 'my',\n",
       " 'mobile',\n",
       " 'number',\n",
       " 'is',\n",
       " 'HELLO',\n",
       " 'HelloOO',\n",
       " 'HEloo',\n",
       " 'helloHH',\n",
       " 'jitesh',\n",
       " 'gamil',\n",
       " 'com',\n",
       " 'santoshshelke',\n",
       " 'gmail',\n",
       " 'com']"
      ]
     },
     "execution_count": 6,
     "metadata": {},
     "output_type": "execute_result"
    }
   ],
   "source": [
    "res=re.findall('[A-z]+',strr) \n",
    "res"
   ]
  },
  {
   "cell_type": "code",
   "execution_count": 13,
   "id": "7465a93c-cde6-4437-8a8d-c9e202795690",
   "metadata": {},
   "outputs": [
    {
     "data": {
      "text/plain": [
       "['9127039487', '89', '89', '09', '6088']"
      ]
     },
     "execution_count": 13,
     "metadata": {},
     "output_type": "execute_result"
    }
   ],
   "source": [
    "res=re.findall('[0-9]+',strr)\n",
    "res"
   ]
  },
  {
   "cell_type": "code",
   "execution_count": 14,
   "id": "b3cdf428-c978-4689-935f-1611aaeac5bd",
   "metadata": {},
   "outputs": [
    {
     "data": {
      "text/plain": [
       "['hello',\n",
       " 'i',\n",
       " 'am',\n",
       " 'jitesh',\n",
       " 'shelke',\n",
       " 'my',\n",
       " 'mobile',\n",
       " 'number',\n",
       " 'is',\n",
       " '9127039487',\n",
       " 'HELLO',\n",
       " 'HelloOO',\n",
       " 'HEloo89',\n",
       " 'helloHH89',\n",
       " 'jitesh09',\n",
       " 'gamil',\n",
       " 'com',\n",
       " 'santoshshelke6088',\n",
       " 'gmail',\n",
       " 'com']"
      ]
     },
     "execution_count": 14,
     "metadata": {},
     "output_type": "execute_result"
    }
   ],
   "source": [
    "res=re.findall('[a-zA-Z0-9]+',strr)\n",
    "res"
   ]
  },
  {
   "cell_type": "code",
   "execution_count": 9,
   "id": "2a692cc7-51e7-4e61-a39c-d5053c759bf1",
   "metadata": {},
   "outputs": [
    {
     "data": {
      "text/plain": [
       "[' ', ' ', ' ', ' ', ' ', ' ', ' ', ' ', ' ', ' ', ' ', ' ', ' ', ' ', ' ']"
      ]
     },
     "execution_count": 9,
     "metadata": {},
     "output_type": "execute_result"
    }
   ],
   "source": [
    "res=re.findall('\\s',strr)\n",
    "res"
   ]
  },
  {
   "cell_type": "code",
   "execution_count": 10,
   "id": "b692dfce-86ce-48d9-bab9-2d1bca5b0bd4",
   "metadata": {},
   "outputs": [
    {
     "data": {
      "text/plain": [
       "['hello',\n",
       " 'i',\n",
       " 'am',\n",
       " 'jitesh',\n",
       " 'shelke',\n",
       " 'my',\n",
       " 'mobile',\n",
       " 'number',\n",
       " 'is',\n",
       " '9127039487',\n",
       " 'HELLO',\n",
       " 'HelloOO',\n",
       " 'HEloo89$$',\n",
       " 'helloHH89',\n",
       " 'jitesh09@gamil.com',\n",
       " 'santoshshelke6088@gmail.com']"
      ]
     },
     "execution_count": 10,
     "metadata": {},
     "output_type": "execute_result"
    }
   ],
   "source": [
    "res=re.findall('\\S+',strr)\n",
    "res"
   ]
  },
  {
   "cell_type": "code",
   "execution_count": 11,
   "id": "a5199c70-dab9-4985-a8aa-11c5b79aee50",
   "metadata": {},
   "outputs": [
    {
     "data": {
      "text/plain": [
       "['9127039487', '89', '89', '09', '6088']"
      ]
     },
     "execution_count": 11,
     "metadata": {},
     "output_type": "execute_result"
    }
   ],
   "source": [
    "res=re.findall('\\d+',strr)\n",
    "res"
   ]
  },
  {
   "cell_type": "code",
   "execution_count": 12,
   "id": "249b54b5-da85-49d6-847e-c0b5f4ac9079",
   "metadata": {},
   "outputs": [
    {
     "data": {
      "text/plain": [
       "['hello i am jitesh shelke my mobile number is ',\n",
       " ' HELLO HelloOO HEloo',\n",
       " '$$ helloHH',\n",
       " ' jitesh',\n",
       " '@gamil.com santoshshelke',\n",
       " '@gmail.com']"
      ]
     },
     "execution_count": 12,
     "metadata": {},
     "output_type": "execute_result"
    }
   ],
   "source": [
    "res=re.findall('\\D+',strr)\n",
    "res"
   ]
  },
  {
   "cell_type": "code",
   "execution_count": 27,
   "id": "01cd3f18-2e87-4234-ae15-298204a5203d",
   "metadata": {},
   "outputs": [
    {
     "data": {
      "text/plain": [
       "['hello',\n",
       " 'i',\n",
       " 'am',\n",
       " 'jitesh',\n",
       " 'shelke',\n",
       " 'my',\n",
       " 'mobile',\n",
       " 'number',\n",
       " 'is',\n",
       " '9127039487',\n",
       " 'HELLO',\n",
       " 'HelloOO',\n",
       " 'HEloo89',\n",
       " 'helloHH89',\n",
       " 'jitesh09',\n",
       " 'gamil',\n",
       " 'com',\n",
       " 'santoshshelke6088',\n",
       " 'gmail',\n",
       " 'com']"
      ]
     },
     "execution_count": 27,
     "metadata": {},
     "output_type": "execute_result"
    }
   ],
   "source": [
    "res=re.findall('\\w+',strr)\n",
    "res"
   ]
  },
  {
   "cell_type": "code",
   "execution_count": 28,
   "id": "61546a51-ff42-47af-8dbe-18c9bf41424f",
   "metadata": {},
   "outputs": [
    {
     "data": {
      "text/plain": [
       "[' ',\n",
       " ' ',\n",
       " ' ',\n",
       " ' ',\n",
       " ' ',\n",
       " ' ',\n",
       " ' ',\n",
       " ' ',\n",
       " ' ',\n",
       " ' ',\n",
       " ' ',\n",
       " ' ',\n",
       " '$$ ',\n",
       " ' ',\n",
       " '@',\n",
       " '.',\n",
       " ' ',\n",
       " '@',\n",
       " '.']"
      ]
     },
     "execution_count": 28,
     "metadata": {},
     "output_type": "execute_result"
    }
   ],
   "source": [
    "res=re.findall('\\W+',strr)\n",
    "res"
   ]
  },
  {
   "cell_type": "code",
   "execution_count": 35,
   "id": "1361f670-cd89-4185-8514-1580e95c57be",
   "metadata": {},
   "outputs": [
    {
     "data": {
      "text/plain": [
       "['hello i am jitesh shelke my mobile number is 9127039487 HELLO HelloOO HEloo89$$ helloHH89 jitesh09@gamil.com santoshshelke6088@gmail.com']"
      ]
     },
     "execution_count": 35,
     "metadata": {},
     "output_type": "execute_result"
    }
   ],
   "source": [
    "res=re.findall('.+',strr)\n",
    "res"
   ]
  },
  {
   "cell_type": "code",
   "execution_count": 42,
   "id": "cf545453-8e9c-4b37-8f17-7224de527261",
   "metadata": {},
   "outputs": [
    {
     "data": {
      "text/plain": [
       "['support@example.com', 'sales@mycompany.org']"
      ]
     },
     "execution_count": 42,
     "metadata": {},
     "output_type": "execute_result"
    }
   ],
   "source": [
    "strr=\"Contact us at support@example.com or sales@mycompany.org for more details.\"\n",
    "strr\n",
    "res=re.findall('\\w+@{1}\\w+.{1}\\w+',strr)\n",
    "res"
   ]
  },
  {
   "cell_type": "code",
   "execution_count": 31,
   "id": "8b48a85d-b893-4b45-94ff-9737c3e9b233",
   "metadata": {},
   "outputs": [
    {
     "data": {
      "text/plain": [
       "['(123)-456-7890', '(987)-654-3210']"
      ]
     },
     "execution_count": 31,
     "metadata": {},
     "output_type": "execute_result"
    }
   ],
   "source": [
    "#Extract all phone numbers from this text, assuming the format (XXX)-XXX-XXXX:\n",
    "strr=\"Call (123)-456-7890 or (987)-654-3210 for assistance.\"\n",
    "\n",
    "res=re.findall('\\W{1}\\d{3}\\W{2}\\d{3}\\W{1}\\d{4}',strr)\n",
    "res"
   ]
  },
  {
   "cell_type": "code",
   "execution_count": 48,
   "id": "e868595e-4587-4364-9496-dcb89e6aead9",
   "metadata": {},
   "outputs": [
    {
     "data": {
      "text/plain": [
       "['12/04/2024', '11-04-2024']"
      ]
     },
     "execution_count": 48,
     "metadata": {},
     "output_type": "execute_result"
    }
   ],
   "source": [
    "#Write a regex pattern to find dates in DD/MM/YYYY or DD-MM-YYYY format from:\n",
    "strr=\"Today's date is 12/04/2024, and yesterday was 11-04-2024.\"\n",
    "\n",
    "res=re.findall('\\d+\\S{1}\\d+\\S{1}\\d+',strr)\n",
    "res"
   ]
  },
  {
   "cell_type": "code",
   "execution_count": 60,
   "id": "20d0dfcd-328d-4a64-bfe0-1e5ef10e33fa",
   "metadata": {},
   "outputs": [
    {
     "data": {
      "text/plain": [
       "['Apples', 'and', 'anges', 'are', 'available', 'at', 'arket']"
      ]
     },
     "execution_count": 60,
     "metadata": {},
     "output_type": "execute_result"
    }
   ],
   "source": [
    "# Find All Words Starting with ‘A’ or ‘a’\n",
    "\n",
    "# Extract words that start with ‘A’ or ‘a’ from:\n",
    "strr=\"Apples and oranges are available at the market.\"\n",
    "res=re.findall('[A,a]\\w+',strr)\n",
    "res"
   ]
  },
  {
   "cell_type": "code",
   "execution_count": 77,
   "id": "1599036e-aaad-42e9-87fe-9e4085c2f6df",
   "metadata": {},
   "outputs": [
    {
     "data": {
      "text/plain": [
       "['#weekend', '#fun', '#regex', '#coding']"
      ]
     },
     "execution_count": 77,
     "metadata": {},
     "output_type": "execute_result"
    }
   ],
   "source": [
    "#Extract Hashtags from a Tweet:\n",
    "\n",
    "#Find all hashtags from:\n",
    "strr=\"Excited for the #weekend! #fun #regex #coding\"\n",
    "res=re.findall('#\\w+',strr)\n",
    "res"
   ]
  },
  {
   "cell_type": "code",
   "execution_count": 79,
   "id": "c079c201-9301-48c5-9534-46c6f062f167",
   "metadata": {},
   "outputs": [
    {
     "data": {
      "text/plain": [
       "['https://www.example.com', 'http://testsite.org']"
      ]
     },
     "execution_count": 79,
     "metadata": {},
     "output_type": "execute_result"
    }
   ],
   "source": [
    "#Extract URLs from a Webpage Text:\n",
    "\n",
    "#Find all URLs from:\n",
    "strr=\"Visit https://www.example.com or http://testsite.org for details.\"\n",
    "res=re.findall('\\w+\\S{3}\\w+\\S{1}\\w+\\S{1}\\w+',strr)\n",
    "res"
   ]
  },
  {
   "cell_type": "code",
   "execution_count": 33,
   "id": "9a60face-04d4-411e-a537-503aabf6ed80",
   "metadata": {},
   "outputs": [
    {
     "name": "stdout",
     "output_type": "stream",
     "text": [
      "This\n",
      "is\n",
      "a\n",
      "test\n",
      "sentence\n"
     ]
    }
   ],
   "source": [
    "# Find Duplicate Words in a Sentence:\n",
    "\n",
    "# Identify duplicate words in this text:\n",
    "strr=\"This is is a test test sentence.\"\n",
    "res=re.findall('\\w+',strr)\n",
    "res\n",
    "\n",
    "ls=[]\n",
    "for i in res:\n",
    "    if i not in ls:\n",
    "        print(i)\n",
    "        ls.append(i)"
   ]
  },
  {
   "cell_type": "code",
   "execution_count": 112,
   "id": "c7ec75cf-8277-4181-8205-3a59038570ec",
   "metadata": {},
   "outputs": [
    {
     "name": "stdout",
     "output_type": "stream",
     "text": [
      "['<p>', '</p>', \"<a href='link.html'>\", '</a>']\n"
     ]
    }
   ],
   "source": [
    "import re\n",
    "\n",
    "# Sample HTML string\n",
    "html_text = \"<p>This is a paragraph.</p><a href='link.html'>Click here</a>\"\n",
    "\n",
    "# Regex pattern to match HTML tags\n",
    "pattern = r\"</?\\w+[^>]*>\"\n",
    "\n",
    "# Find all HTML tags\n",
    "html_tags = re.findall(pattern, html_text)\n",
    "\n",
    "# Print result\n",
    "print(html_tags)\n"
   ]
  },
  {
   "cell_type": "code",
   "execution_count": null,
   "id": "11117b60-27be-482c-8d02-261c5eb7b1ea",
   "metadata": {},
   "outputs": [],
   "source": []
  }
 ],
 "metadata": {
  "kernelspec": {
   "display_name": "Python 3 (ipykernel)",
   "language": "python",
   "name": "python3"
  },
  "language_info": {
   "codemirror_mode": {
    "name": "ipython",
    "version": 3
   },
   "file_extension": ".py",
   "mimetype": "text/x-python",
   "name": "python",
   "nbconvert_exporter": "python",
   "pygments_lexer": "ipython3",
   "version": "3.11.9"
  },
  "widgets": {
   "application/vnd.jupyter.widget-state+json": {
    "state": {},
    "version_major": 2,
    "version_minor": 0
   }
  }
 },
 "nbformat": 4,
 "nbformat_minor": 5
}
