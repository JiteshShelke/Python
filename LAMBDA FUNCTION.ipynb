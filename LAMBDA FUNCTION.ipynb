{
 "cells": [
  {
   "cell_type": "markdown",
   "id": "31334329-5926-4203-a949-792d51d50062",
   "metadata": {},
   "source": [
    "# AUTHOR : JITESH SHELKE"
   ]
  },
  {
   "cell_type": "markdown",
   "id": "34e89743-66c8-4c40-8c16-2781c1ea3514",
   "metadata": {},
   "source": [
    "# lambda function"
   ]
  },
  {
   "cell_type": "code",
   "execution_count": null,
   "id": "6dbf73f3-b840-4761-939a-099a2186e6d4",
   "metadata": {},
   "outputs": [],
   "source": [
    "# 1. AP TO CHECK THAT THE STING IS PALLINDROME OR NOTE\n",
    "# 2. WAP TO CONVERT NEG NUM TO POSITIVE\n",
    "# 3. WAP TO RETURN THE KEYS OF DICTT\n",
    "# 4. WAP TO CHECK THAT THE NUMBER IS EVEN OR ODD\n",
    "# 5. WAP TO RETURN THE FIRST ELEMENT OF A SEQUENCE\n",
    "# 6. WAP TO RETURN THE LENGTH OF ANY ITERABLE\n",
    "# 7. WAP TO GET ONLY PALLINDROME STRING FROM A LIST OF NAMES GIVEN BY USER\n",
    "# 8. WAP TO PRINT THE NUMBERS PRESENT INSIDE THE LIST WITH THEIR CORRESPONDING INDEXS\n",
    "# 9. WAP TO CHECK THAT THE DATA IS AN COLLECTION DATATYPE IF YES THEN RETURN DATA AND LENGTH PAIR ELSE ITS TYPE PAIR\n",
    "# 10. WAP TO CHECK THAT THE NUMBER IS DIVISIBLE BY 5 AND 7 BOTH\n",
    "# 11 WAP TO CHECK THE LENGTH OF THE STRING IF ITS EVEN RETURN AS IT IS ELSE RETURN THE REVERSE OF THAT FORM A LIST"
   ]
  },
  {
   "cell_type": "code",
   "execution_count": 10,
   "id": "643ab02e-fc35-43bf-a90e-93f25a6339cd",
   "metadata": {},
   "outputs": [
    {
     "name": "stdout",
     "output_type": "stream",
     "text": [
      "true\n"
     ]
    }
   ],
   "source": [
    "# 1. WAP TO CHECK THAT THE STING IS PALLINDROME OR NOTE\n",
    "\n",
    "strr='madam'\n",
    "\n",
    "func = lambda x : print('true') if x==x[::-1] else print('false')\n",
    "func(strr)"
   ]
  },
  {
   "cell_type": "code",
   "execution_count": 11,
   "id": "a8f25ddd-8ab3-4f99-8ea4-9250b482ecfc",
   "metadata": {},
   "outputs": [
    {
     "data": {
      "text/plain": [
       "100"
      ]
     },
     "execution_count": 11,
     "metadata": {},
     "output_type": "execute_result"
    }
   ],
   "source": [
    "# 2. WAP TO CONVERT NEG NUM TO POSITIVE\n",
    "\n",
    "num=-100\n",
    "\n",
    "func = lambda x : abs(x)\n",
    "func(num)"
   ]
  },
  {
   "cell_type": "code",
   "execution_count": 14,
   "id": "d44a4c99-199a-4593-b5fd-fefff7caf12b",
   "metadata": {},
   "outputs": [
    {
     "data": {
      "text/plain": [
       "dict_keys([0, 1, 3])"
      ]
     },
     "execution_count": 14,
     "metadata": {},
     "output_type": "execute_result"
    }
   ],
   "source": [
    "# 3. WAP TO RETURN THE KEYS OF DICTT\n",
    "\n",
    "dictt={0:10,1:20,3:30}\n",
    "\n",
    "func = lambda x : x.keys()\n",
    "func(dictt)"
   ]
  },
  {
   "cell_type": "code",
   "execution_count": 16,
   "id": "6b81b9f9-6de7-4ded-9638-a4c3d99aec88",
   "metadata": {},
   "outputs": [
    {
     "name": "stdout",
     "output_type": "stream",
     "text": [
      "num is even\n"
     ]
    }
   ],
   "source": [
    "# 4. WAP TO CHECK THAT THE NUMBER IS EVEN OR ODD\n",
    "num=20\n",
    "\n",
    "func = lambda x : print('num is even') if x%2==0 else print('num is odd')\n",
    "func(num)"
   ]
  },
  {
   "cell_type": "code",
   "execution_count": 25,
   "id": "3eb8aaa0-6a31-4ae9-8202-ba0f30e07d80",
   "metadata": {},
   "outputs": [
    {
     "data": {
      "text/plain": [
       "10"
      ]
     },
     "execution_count": 25,
     "metadata": {},
     "output_type": "execute_result"
    }
   ],
   "source": [
    "# 5. WAP TO RETURN THE FIRST ELEMENT OF A SEQUENCE\n",
    "\n",
    "ls=[10,20,30]\n",
    "\n",
    "func = lambda x : x[0]\n",
    "func(ls)"
   ]
  },
  {
   "cell_type": "code",
   "execution_count": null,
   "id": "e818c973-1bce-4099-8609-db59a24dc46e",
   "metadata": {},
   "outputs": [],
   "source": []
  },
  {
   "cell_type": "code",
   "execution_count": 6,
   "id": "27bf60b9-9dee-4f0d-be7c-5ad201aa3305",
   "metadata": {},
   "outputs": [
    {
     "name": "stdin",
     "output_type": "stream",
     "text": [
      "enter your string:  jitesh\n"
     ]
    },
    {
     "data": {
      "text/plain": [
       "'jitesh'"
      ]
     },
     "execution_count": 6,
     "metadata": {},
     "output_type": "execute_result"
    }
   ],
   "source": [
    "# 11 WAP TO CHECK THE LENGTH OF THE STRING IF ITS EVEN RETURN AS IT IS ELSE RETURN THE REVERSE OF THAT FORM A LIST\n",
    "\n",
    "strr=str(input('enter your string: '))\n",
    "func=lambda x: x if len(x)%2==0 else x[::-1]\n",
    "func(strr)"
   ]
  },
  {
   "cell_type": "markdown",
   "id": "1519cba4-5df4-4fd5-a2cc-cf1e4ceb4819",
   "metadata": {},
   "source": [
    "# MAP FUNCTION "
   ]
  },
  {
   "cell_type": "code",
   "execution_count": 9,
   "id": "ac554ef8-c4bd-4cc2-97d8-2364def50a9e",
   "metadata": {},
   "outputs": [
    {
     "name": "stdout",
     "output_type": "stream",
     "text": [
      "['j', 's', 's']\n"
     ]
    }
   ],
   "source": [
    "# 1 WAP TO CREATE A LIST OF FIRST CHAR OF THE STRING PRESENT IN A LIST USING MAP FUINC\n",
    "\n",
    "ls=['jitesh','santosh','shelke']\n",
    "func=lambda x: x[0]\n",
    "print(list(map(func,ls)))"
   ]
  },
  {
   "cell_type": "code",
   "execution_count": 23,
   "id": "5d559b3e-9c07-4a00-b921-777bb61ab247",
   "metadata": {},
   "outputs": [
    {
     "name": "stdout",
     "output_type": "stream",
     "text": [
      "[{'jitesh': 6}, {'santosh': 7}, {'shelke': 6}]\n"
     ]
    }
   ],
   "source": [
    "# 2 WAP TO CREATE A LIST OF NAME AND LEN PAIR OF A STRING\n",
    "ls=['jitesh','santosh','shelke']\n",
    "func= lambda x : {x:len(x)}\n",
    "print(list(map(func,ls)))"
   ]
  },
  {
   "cell_type": "code",
   "execution_count": 39,
   "id": "2c9ba789-7b82-41dd-bbca-8a3fb07a8d2c",
   "metadata": {},
   "outputs": [
    {
     "name": "stdout",
     "output_type": "stream",
     "text": [
      "[{'good': 'GOOD'}, {'morning': 'MORNING'}]\n"
     ]
    }
   ],
   "source": [
    "# 7 WAP TO GET THE FOLLOWING OUTPUT\n",
    "s='good morning'\n",
    "func=lambda x: {x:x.upper()}\n",
    "print(list(map(func,s.split())))"
   ]
  },
  {
   "cell_type": "markdown",
   "id": "8e0e5c6f-ab67-48ac-99a2-001880feeb7a",
   "metadata": {},
   "source": [
    "# FILTER FUNCTION"
   ]
  },
  {
   "cell_type": "code",
   "execution_count": 43,
   "id": "b846eafe-a0a0-4026-a218-a0e99da7b77f",
   "metadata": {},
   "outputs": [
    {
     "name": "stdout",
     "output_type": "stream",
     "text": [
      "['jitesh', 'janhavi']\n"
     ]
    }
   ],
   "source": [
    "# 1 WAP TO FETCH THE NAMES FROM A LIST WHOSE FIRST LETTER IS A CONSONANT\n",
    "ls=['jitesh','janhavi','aadiksha','uuuu']\n",
    "\n",
    "func=lambda x: x[0] not in 'aeiouAEIOU'\n",
    "print(list(filter(func,ls)))"
   ]
  },
  {
   "cell_type": "code",
   "execution_count": 44,
   "id": "50a2b8da-8cd1-432a-bd63-724438b40c99",
   "metadata": {},
   "outputs": [
    {
     "name": "stdout",
     "output_type": "stream",
     "text": [
      "['jitesh', 'sachin']\n"
     ]
    }
   ],
   "source": [
    "# 2 WAP TO FETCH ONLY THE EVEN LENGTH STRINGS FROM A LIST OF NAMES GIVEN BY USER\n",
    "\n",
    "ls=['jitesh','janhavi','santosh','sachin']\n",
    "\n",
    "func=lambda x : len(x)%2==0\n",
    "print(list(filter(func,ls)))"
   ]
  },
  {
   "cell_type": "code",
   "execution_count": 56,
   "id": "ed74b68c-ca27-4530-b985-251f0a52f09c",
   "metadata": {},
   "outputs": [
    {
     "name": "stdout",
     "output_type": "stream",
     "text": [
      "['sun flower', 'lily flower', 'lotus flower']\n"
     ]
    }
   ],
   "source": [
    "# 3 WAP TO FETCH ONLY FLOWERS FROM THIS GIVEN COLLECTION\n",
    "ls=['sun flower','banan tree','lily flower','lotus flower','jitesh Flower','flower Jnhavi']\n",
    "\n",
    "func=lambda x : x.split()[1] in 'flower'\n",
    "print(list(filter(func,ls)))"
   ]
  }
 ],
 "metadata": {
  "kernelspec": {
   "display_name": "Python 3 (ipykernel)",
   "language": "python",
   "name": "python3"
  },
  "language_info": {
   "codemirror_mode": {
    "name": "ipython",
    "version": 3
   },
   "file_extension": ".py",
   "mimetype": "text/x-python",
   "name": "python",
   "nbconvert_exporter": "python",
   "pygments_lexer": "ipython3",
   "version": "3.11.9"
  },
  "widgets": {
   "application/vnd.jupyter.widget-state+json": {
    "state": {},
    "version_major": 2,
    "version_minor": 0
   }
  }
 },
 "nbformat": 4,
 "nbformat_minor": 5
}
