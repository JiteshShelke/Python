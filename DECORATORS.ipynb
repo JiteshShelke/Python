{
 "cells": [
  {
   "cell_type": "markdown",
   "id": "ccab2c6b-4e67-48fc-930c-a8033009cee1",
   "metadata": {},
   "source": [
    "# AUTHOR : JITESH SHELKE"
   ]
  },
  {
   "cell_type": "markdown",
   "id": "d92b35e6-d37a-4aa5-ae52-07bd6e7eabf9",
   "metadata": {},
   "source": [
    "# DECORATOR"
   ]
  },
  {
   "cell_type": "code",
   "execution_count": 2,
   "id": "71391bf5-6262-4c8a-8545-b9610f6f0694",
   "metadata": {},
   "outputs": [
    {
     "name": "stdout",
     "output_type": "stream",
     "text": [
      "this is decorator output\n",
      "this is normal function\n"
     ]
    }
   ],
   "source": [
    "def outer(func):\n",
    "    def inner(*args):\n",
    "        print('this is decorator output')\n",
    "        func(*args)\n",
    "    return inner\n",
    "\n",
    "@outer\n",
    "def printer():\n",
    "    print('this is normal function')\n",
    "printer()"
   ]
  },
  {
   "cell_type": "markdown",
   "id": "fb020a93-0c04-4a27-bc7e-8bf15a888912",
   "metadata": {},
   "source": [
    "# TIME DECORATOR \n",
    "# WRITE A DECORATOR TIMER THAT MEASURES HOW LONG A FUNCTION TAKES TO EXECUTES"
   ]
  },
  {
   "cell_type": "code",
   "execution_count": 31,
   "id": "951d1716-ddc3-4b55-87df-72e32a44fe33",
   "metadata": {},
   "outputs": [
    {
     "name": "stdout",
     "output_type": "stream",
     "text": [
      "start time:  1746623577.944385\n",
      "34\n",
      "68\n",
      "102\n",
      "136\n",
      "170\n",
      "204\n",
      "238\n",
      "272\n",
      "306\n",
      "end time:  1746623577.9459918\n"
     ]
    }
   ],
   "source": [
    "import time\n",
    "\n",
    "def outer(func):\n",
    "    def inner(*args):\n",
    "        print('start time: ',time.time())\n",
    "        func(*args)\n",
    "        print('end time: ',time.time())\n",
    "    return inner\n",
    "\n",
    "@outer\n",
    "def printer():\n",
    "    for i in range(1,10):\n",
    "        print(i*34)\n",
    "\n",
    "printer()"
   ]
  },
  {
   "cell_type": "markdown",
   "id": "4014c75e-c508-4936-86f1-90644e1d733a",
   "metadata": {},
   "source": [
    "# WAP TO GET THE NAME OF THE CALLED FUNC THROUGH DECORATOR"
   ]
  },
  {
   "cell_type": "code",
   "execution_count": 1,
   "id": "7f3d8272-758c-463e-97c1-cc4094628d5a",
   "metadata": {},
   "outputs": [
    {
     "name": "stdout",
     "output_type": "stream",
     "text": [
      "name of the function is : master\n"
     ]
    }
   ],
   "source": [
    "def outer(func):\n",
    "    def inner(*args):\n",
    "        print(f'name of the function is :',func.__name__)\n",
    "    return inner\n",
    "\n",
    "@outer\n",
    "def master():\n",
    "    pass\n",
    "\n",
    "master()"
   ]
  },
  {
   "cell_type": "markdown",
   "id": "427d1329-b9e7-4498-98ac-bc89f0090bd2",
   "metadata": {},
   "source": [
    "# RESULT MODIFIER \n",
    "# CREATE A DECORATOR THAT MULTIPLES THE RESULT OF ANY FUNCTION BY 10 BEFORE RETURING IT"
   ]
  },
  {
   "cell_type": "code",
   "execution_count": 8,
   "id": "12d1fc55-f4ea-4239-ae86-fbce536bed5f",
   "metadata": {},
   "outputs": [
    {
     "name": "stdout",
     "output_type": "stream",
     "text": [
      "300\n"
     ]
    }
   ],
   "source": [
    "def outer(func):\n",
    "    def inner(a,b):\n",
    "        func(a,b)\n",
    "        c=a+b\n",
    "        print(c*10)\n",
    "    return inner\n",
    "\n",
    "@outer\n",
    "def printer(a,b): \n",
    "    pass\n",
    "    \n",
    "printer(10,20)"
   ]
  },
  {
   "cell_type": "markdown",
   "id": "01d7a476-9ffe-4ddc-bb70-154ca2e53475",
   "metadata": {},
   "source": [
    "# ARGUMENT VALIDATOR\n",
    "# WRITE A DECORATOR THAT CHECKS IF THE PASSED ARGUMENTS ARE ALL POSITIVE INTEGERS, IF NOT PRINT AN ERROR"
   ]
  },
  {
   "cell_type": "code",
   "execution_count": 19,
   "id": "51fe6923-7292-45b0-9368-0f95c6852fa3",
   "metadata": {},
   "outputs": [
    {
     "name": "stdout",
     "output_type": "stream",
     "text": [
      "start checking ...\n",
      "number is positive\n",
      "number is positive\n",
      "error...\n"
     ]
    }
   ],
   "source": [
    "def outer(func):\n",
    "    def inner(*args):\n",
    "        print('start checking ...')\n",
    "        func(*args)\n",
    "        for i in args:\n",
    "            if i>0:\n",
    "                print('number is positive')\n",
    "            else:\n",
    "                print('error...')\n",
    "    return inner\n",
    "\n",
    "@outer\n",
    "def checker(*args):\n",
    "    pass\n",
    "\n",
    "checker(10,20,-10)"
   ]
  },
  {
   "cell_type": "markdown",
   "id": "ac629a5d-fa26-4ca9-9461-0508cb911e75",
   "metadata": {},
   "source": [
    "# ACCESS CONTROL\n",
    "# MAKE A DECORATOR THAT CHECKS IF A USERS IS ADMIN . IF NOT IT DENIES ACCESS TO THE FUNCITON"
   ]
  },
  {
   "cell_type": "code",
   "execution_count": 39,
   "id": "d56c071a-5e95-4969-874c-9495fef5861f",
   "metadata": {},
   "outputs": [
    {
     "name": "stdout",
     "output_type": "stream",
     "text": [
      "admin correct\n"
     ]
    }
   ],
   "source": [
    "def outer(func):\n",
    "    def inner(email,password):\n",
    "        func(email,password)\n",
    "        if email=='jiteshshelk09@gmail.com':\n",
    "            if password=='admin123':\n",
    "                print('admin correct')\n",
    "            else:\n",
    "                print('password is wrong')\n",
    "        else:\n",
    "            print('email is wrong')\n",
    "    return inner\n",
    "\n",
    "@outer\n",
    "def admin(email,password):\n",
    "    pass\n",
    "admin('jiteshshelk09@gmail.com','admin123')"
   ]
  },
  {
   "cell_type": "code",
   "execution_count": null,
   "id": "59433285-d048-4ab0-91c6-962d4c48738f",
   "metadata": {},
   "outputs": [],
   "source": []
  }
 ],
 "metadata": {
  "kernelspec": {
   "display_name": "Python 3 (ipykernel)",
   "language": "python",
   "name": "python3"
  },
  "language_info": {
   "codemirror_mode": {
    "name": "ipython",
    "version": 3
   },
   "file_extension": ".py",
   "mimetype": "text/x-python",
   "name": "python",
   "nbconvert_exporter": "python",
   "pygments_lexer": "ipython3",
   "version": "3.11.9"
  },
  "widgets": {
   "application/vnd.jupyter.widget-state+json": {
    "state": {},
    "version_major": 2,
    "version_minor": 0
   }
  }
 },
 "nbformat": 4,
 "nbformat_minor": 5
}
