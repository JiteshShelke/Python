{
 "cells": [
  {
   "cell_type": "markdown",
   "id": "1479df1b-a81c-482c-a0b2-c1486375ff0c",
   "metadata": {},
   "source": [
    "# AUTHOR : JITESH SHELKE\n"
   ]
  },
  {
   "cell_type": "markdown",
   "id": "d8c757af-93c7-4d08-86af-9935ed605b3b",
   "metadata": {},
   "source": [
    "# LIST COMPREHENSION"
   ]
  },
  {
   "cell_type": "code",
   "execution_count": null,
   "id": "1ed6a492-438e-4bb7-81c1-2cd56e08d8a2",
   "metadata": {},
   "outputs": [],
   "source": [
    "# 1.wap to return all the even nos from a list\n",
    "# 2.. wap to return alist containing 10 multiples of a given value from user\n",
    "# 3. wap to take two list from user and find the sum of same indexed values\n",
    "# 4. wap to return the pair of index and value present in a list given by user\n",
    "# 5. wap to check the length of a string presemt in a tuple, if length is even append as it is else reverse it and then append\n",
    "# 6. wap to extracr all the complex nos from a given list\n",
    "# 7. strr='python is very easy'\n",
    "# out: [(python,6),(is,2),(very,4)...]"
   ]
  },
  {
   "cell_type": "code",
   "execution_count": 39,
   "id": "69939a7d-5074-4f08-bfcd-6501e8a50ad9",
   "metadata": {},
   "outputs": [],
   "source": [
    "ls=[1,2,3,4,5,6]\n",
    "\n",
    "syntax1=[i*2 for i in ls]\n",
    "syntax2=[i for i in ls if i%2==0]\n",
    "syntax3=[i if i%2==0 else i**3 for i in ls]"
   ]
  },
  {
   "cell_type": "markdown",
   "id": "678c5535-a2ef-481d-b76a-e44f2b57dc48",
   "metadata": {},
   "source": [
    "# 1. wap to return all the even numbers from a list"
   ]
  },
  {
   "cell_type": "code",
   "execution_count": 1,
   "id": "f4c67c54-83fe-459b-b62a-a3d90f44aa4f",
   "metadata": {},
   "outputs": [
    {
     "data": {
      "text/plain": [
       "[2, 4, 6, 8, 10]"
      ]
     },
     "execution_count": 1,
     "metadata": {},
     "output_type": "execute_result"
    }
   ],
   "source": [
    "ls=[1,2,3,4,5,6,7,8,9,10]\n",
    "new_ls=[i for i in ls if i%2==0]\n",
    "new_ls"
   ]
  },
  {
   "cell_type": "markdown",
   "id": "46a6c4c7-758b-49c1-bf2c-226ae9148239",
   "metadata": {},
   "source": [
    "# 2. wap to return a list containing 10 multiples of a given value from user"
   ]
  },
  {
   "cell_type": "code",
   "execution_count": 4,
   "id": "8af09e42-8f9d-4307-9b44-8f03c0707b36",
   "metadata": {},
   "outputs": [
    {
     "name": "stdin",
     "output_type": "stream",
     "text": [
      "enter your number:  3\n"
     ]
    },
    {
     "data": {
      "text/plain": [
       "[3, 6, 9, 12, 15, 18, 21, 24, 27, 30]"
      ]
     },
     "execution_count": 4,
     "metadata": {},
     "output_type": "execute_result"
    }
   ],
   "source": [
    "num=int(input('enter your number: '))\n",
    "\n",
    "new_ls=[i*num for i in range(1,11)]\n",
    "new_ls"
   ]
  },
  {
   "cell_type": "markdown",
   "id": "c946d2f6-56f8-4b30-a92d-f5031c2b1123",
   "metadata": {},
   "source": [
    "# 3. wap to take two list from user and find the sum of same indexed values"
   ]
  },
  {
   "cell_type": "code",
   "execution_count": 6,
   "id": "7e41d218-793d-4fc6-ae88-a292123605c1",
   "metadata": {},
   "outputs": [
    {
     "data": {
      "text/plain": [
       "[110, 220, 330]"
      ]
     },
     "execution_count": 6,
     "metadata": {},
     "output_type": "execute_result"
    }
   ],
   "source": [
    "ls1=[10,20,30]\n",
    "ls2=[100,200,300]\n",
    "\n",
    "new_ls=[i+j for i,j in zip(ls1,ls2)]\n",
    "new_ls"
   ]
  },
  {
   "cell_type": "markdown",
   "id": "d7fce34b-7754-4e60-9601-b39103be63d1",
   "metadata": {},
   "source": [
    "# 4. wap to return the pair of index and value present in a list given by user"
   ]
  },
  {
   "cell_type": "code",
   "execution_count": 8,
   "id": "683ad142-49c1-4ade-8d18-4edb04519ee3",
   "metadata": {},
   "outputs": [
    {
     "data": {
      "text/plain": [
       "[(0, 10), (1, 20), (2, 30)]"
      ]
     },
     "execution_count": 8,
     "metadata": {},
     "output_type": "execute_result"
    }
   ],
   "source": [
    "ls=[10,20,30]\n",
    "\n",
    "new_ls=[(i,j) for i,j in enumerate(ls)]\n",
    "new_ls"
   ]
  },
  {
   "cell_type": "markdown",
   "id": "fc226871-42b7-4cf8-ac67-7b0d59fad09a",
   "metadata": {},
   "source": [
    "# 5. wap to check the length of a string present in a tuple, if length is even append as it is else reverse it and then append"
   ]
  },
  {
   "cell_type": "code",
   "execution_count": 10,
   "id": "a6f1bea1-3157-4e7a-9c11-a426fef91456",
   "metadata": {},
   "outputs": [
    {
     "data": {
      "text/plain": [
       "['nahor', 'sham', 'mar']"
      ]
     },
     "execution_count": 10,
     "metadata": {},
     "output_type": "execute_result"
    }
   ],
   "source": [
    "tup=('rohan','sham','ram')\n",
    "\n",
    "new_ls=[i if len(i)%2==0 else i[::-1] for i in tup]\n",
    "new_ls"
   ]
  },
  {
   "cell_type": "markdown",
   "id": "1d445b9c-6f31-42dc-8ed0-fd1190073f27",
   "metadata": {},
   "source": [
    "# 6. wap to extracr all the complex nos from a given list"
   ]
  },
  {
   "cell_type": "code",
   "execution_count": 12,
   "id": "d2dc68eb-5030-49c0-9a61-32bc45e59221",
   "metadata": {},
   "outputs": [
    {
     "data": {
      "text/plain": [
       "[(10+20j), (20+10j)]"
      ]
     },
     "execution_count": 12,
     "metadata": {},
     "output_type": "execute_result"
    }
   ],
   "source": [
    "ls=[10,20,10+20j,20+10j,89,89]\n",
    "\n",
    "new_ls=[i for i in ls if type(i)==complex]\n",
    "new_ls"
   ]
  },
  {
   "cell_type": "markdown",
   "id": "1f454bb7-31c6-48a1-b342-233e519ab785",
   "metadata": {},
   "source": [
    "# 7. strr='python is very easy'\n",
    "# out: [(python,6),(is,2),(very,4)...]"
   ]
  },
  {
   "cell_type": "code",
   "execution_count": 17,
   "id": "4b115cdc-0341-46a0-baa6-d1cc23da1d29",
   "metadata": {},
   "outputs": [
    {
     "data": {
      "text/plain": [
       "[('python', 6), ('is', 2), ('very', 4), ('easy', 4), ('language', 8)]"
      ]
     },
     "execution_count": 17,
     "metadata": {},
     "output_type": "execute_result"
    }
   ],
   "source": [
    "strr='python is very easy language'\n",
    "\n",
    "new_ls=[(i,len(i)) for i in strr.split()]\n",
    "new_ls"
   ]
  },
  {
   "cell_type": "markdown",
   "id": "88a00aea-4737-4217-95c0-22d6c457ea5b",
   "metadata": {},
   "source": [
    "# SET COMPREHENSION"
   ]
  },
  {
   "cell_type": "markdown",
   "id": "2ff8ae62-d881-47ea-917e-f966599dac72",
   "metadata": {},
   "source": [
    "# 1. WAP TO REMOVE REPEATED VALUE FROM A LIST AND RETURN IS SET"
   ]
  },
  {
   "cell_type": "code",
   "execution_count": 19,
   "id": "db46382f-897c-45ec-92f4-89225f899d1c",
   "metadata": {},
   "outputs": [
    {
     "data": {
      "text/plain": [
       "{10, 20, 30}"
      ]
     },
     "execution_count": 19,
     "metadata": {},
     "output_type": "execute_result"
    }
   ],
   "source": [
    "ls=[10,20,30,10,10]\n",
    "\n",
    "sett={i for i in ls}\n",
    "sett"
   ]
  },
  {
   "cell_type": "markdown",
   "id": "2243c2bf-49c6-4c0c-8b17-5d1bd65086f7",
   "metadata": {},
   "source": [
    "# 2. WAP TO GET ONLY THE PALLINDROME STRINGS FROM A LIST AND THERE SHOULF BE NO DUPLICATE IN THE FINAL OUTPUT"
   ]
  },
  {
   "cell_type": "code",
   "execution_count": 21,
   "id": "21eee118-ca79-46e2-b46e-b7636aee4d87",
   "metadata": {},
   "outputs": [
    {
     "data": {
      "text/plain": [
       "{'dad', 'madam', 'mam'}"
      ]
     },
     "execution_count": 21,
     "metadata": {},
     "output_type": "execute_result"
    }
   ],
   "source": [
    "ls=['jitesh','madam','dad','mam','dad','mam']\n",
    "\n",
    "sett={i for i in ls if i==i[::-1]}\n",
    "sett"
   ]
  },
  {
   "cell_type": "markdown",
   "id": "82d73076-f173-4cb0-87f9-327f24af4fd7",
   "metadata": {},
   "source": [
    "# DICT COMPREHENSION"
   ]
  },
  {
   "cell_type": "code",
   "execution_count": 30,
   "id": "e0b786a3-d2f9-46b7-a491-8c39fd0f9f1b",
   "metadata": {},
   "outputs": [
    {
     "data": {
      "text/plain": [
       "{'s': 'sham', 'h': 'himanshu'}"
      ]
     },
     "execution_count": 30,
     "metadata": {},
     "output_type": "execute_result"
    }
   ],
   "source": [
    "# <!-- ✅ Question 1 (Even Length Word Mapping):\n",
    "# Write a Python program to create a dictionary from a list of words such that:\n",
    "\n",
    "# The key is the first character of the word, and\n",
    "\n",
    "# The value is the word itself only if the word has even length.\n",
    "\n",
    "\n",
    "ls=['sham','ram','himanshu']\n",
    "\n",
    "dictt={i[0]:i for i in ls if len(i)%2==0}\n",
    "dictt"
   ]
  },
  {
   "cell_type": "code",
   "execution_count": 34,
   "id": "ddcf689a-e67e-4c35-b97e-0db442c645f1",
   "metadata": {},
   "outputs": [
    {
     "data": {
      "text/plain": [
       "{'sham': 'sham', 'ram': 'mar', 'himanshu': 'himanshu', 'abc': 'cba'}"
      ]
     },
     "execution_count": 34,
     "metadata": {},
     "output_type": "execute_result"
    }
   ],
   "source": [
    "# ✅ Question 2 (Word Length and Reverse Handling):\n",
    "# Write a Python program to iterate through a list of words and:\n",
    "\n",
    "# If a word has even length, add it to a dictionary with the word as both key and value.\n",
    "\n",
    "# If the word has odd length, add it with the word as key and its reverse as the value.\n",
    "\n",
    "ls=['sham','ram','himanshu','abc']\n",
    "\n",
    "dictt={i:i if len(i)%2==0 else i[::-1] for i in ls}\n",
    "dictt"
   ]
  },
  {
   "cell_type": "code",
   "execution_count": 36,
   "id": "0ecc4b3e-123d-47bd-9005-290d962d4890",
   "metadata": {},
   "outputs": [
    {
     "data": {
      "text/plain": [
       "{'ram': 'mar', 'madam': 'madam', 'dad': 'dad', 'mom': 'mom', 'hello': 'olleh'}"
      ]
     },
     "execution_count": 36,
     "metadata": {},
     "output_type": "execute_result"
    }
   ],
   "source": [
    "# ✅ Question 3 (Palindrome Check):\n",
    "# Write a Python program to check for each word in a list whether it is a palindrome or not.\n",
    "\n",
    "# If it is a palindrome, store it in a dictionary with the word as both key and value.\n",
    "\n",
    "# If it is not a palindrome, store the word as the key and its reverse as the value.\n",
    "\n",
    "#  -->\n",
    "\n",
    "ls=['ram','madam','dad','mom','hello']\n",
    "\n",
    "dictt={i:i if i==i[::-1] else i[::-1] for i in ls}\n",
    "dictt"
   ]
  }
 ],
 "metadata": {
  "kernelspec": {
   "display_name": "Python 3 (ipykernel)",
   "language": "python",
   "name": "python3"
  },
  "language_info": {
   "codemirror_mode": {
    "name": "ipython",
    "version": 3
   },
   "file_extension": ".py",
   "mimetype": "text/x-python",
   "name": "python",
   "nbconvert_exporter": "python",
   "pygments_lexer": "ipython3",
   "version": "3.11.9"
  },
  "widgets": {
   "application/vnd.jupyter.widget-state+json": {
    "state": {},
    "version_major": 2,
    "version_minor": 0
   }
  }
 },
 "nbformat": 4,
 "nbformat_minor": 5
}
