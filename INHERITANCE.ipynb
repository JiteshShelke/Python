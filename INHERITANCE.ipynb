{
 "cells": [
  {
   "cell_type": "markdown",
   "id": "6d556ebc-2bc7-4a8b-92ec-347df636a6c2",
   "metadata": {},
   "source": [
    "# AUTHOR : JITESH SHELKE\n",
    "SINGLE LEVELE INHERITANCE\n",
    "MULTI LEVELE INHERITANCE\n",
    "MULTIPLE INHERITANCE\n",
    "HIERARCHICAL INHERITANCE\n",
    "HYBRID INHERITANCE"
   ]
  },
  {
   "cell_type": "markdown",
   "id": "0109361b-ea9d-4f5e-96d9-6a3958c68951",
   "metadata": {},
   "source": [
    "# SINGLE LEVELE INHERITANCE"
   ]
  },
  {
   "cell_type": "code",
   "execution_count": 3,
   "id": "a7df51c6-03d1-4a19-accb-fd9448616ac9",
   "metadata": {},
   "outputs": [
    {
     "name": "stdout",
     "output_type": "stream",
     "text": [
      "100\n",
      "200\n"
     ]
    }
   ],
   "source": [
    "class parent:\n",
    "    a=100\n",
    "\n",
    "class child(parent):\n",
    "    b=200\n",
    "\n",
    "obj=child()\n",
    "print(obj.a)\n",
    "print(obj.b)"
   ]
  },
  {
   "cell_type": "code",
   "execution_count": 6,
   "id": "35f56158-3ddf-408d-8c10-f5ecc15ba844",
   "metadata": {},
   "outputs": [
    {
     "name": "stdout",
     "output_type": "stream",
     "text": [
      "40\n",
      "30\n"
     ]
    }
   ],
   "source": [
    "class parent:\n",
    "    def add(self,aa,bb):\n",
    "        return aa+bb\n",
    "class child(parent):\n",
    "    def sub(self,a,b):\n",
    "        return a-b\n",
    "\n",
    "obj=child()\n",
    "print(obj.add(10,30))\n",
    "print(obj.sub(60,30))"
   ]
  },
  {
   "cell_type": "code",
   "execution_count": 8,
   "id": "2ec69707-1a00-41f4-bc8b-131898a33889",
   "metadata": {},
   "outputs": [
    {
     "name": "stdout",
     "output_type": "stream",
     "text": [
      "this is parent class\n",
      "this is child class\n"
     ]
    }
   ],
   "source": [
    "class parent:\n",
    "    def __init__(self,random):\n",
    "        print(random)\n",
    "class child(parent):\n",
    "    def __init__(self,hello,random):\n",
    "        super().__init__(random)\n",
    "        print(hello)\n",
    "        \n",
    "obj=child('this is child class','this is parent class')"
   ]
  },
  {
   "cell_type": "markdown",
   "id": "60716004-5b0a-49df-b87a-162a5428471f",
   "metadata": {},
   "source": [
    "# MULTI LEVELE INHERITANCE"
   ]
  },
  {
   "cell_type": "code",
   "execution_count": 1,
   "id": "bb6e7abf-102b-4741-ad04-0f3064dce205",
   "metadata": {},
   "outputs": [
    {
     "name": "stdout",
     "output_type": "stream",
     "text": [
      "100\n",
      "200\n",
      "300\n"
     ]
    }
   ],
   "source": [
    "class grand_parent:\n",
    "    a=100\n",
    "class parent(grand_parent):\n",
    "    b=200\n",
    "class child(parent):\n",
    "    c=300\n",
    "\n",
    "obj=child()\n",
    "print(obj.a)\n",
    "print(obj.b)\n",
    "print(obj.c)"
   ]
  },
  {
   "cell_type": "code",
   "execution_count": 14,
   "id": "27e15529-de70-4cab-8c0d-ee0d58ee4cfd",
   "metadata": {},
   "outputs": [
    {
     "name": "stdout",
     "output_type": "stream",
     "text": [
      "this is in child:  0.5\n",
      "this is in grand_parent:  300\n",
      "this is in parent:  -10\n"
     ]
    }
   ],
   "source": [
    "class grand_parent:\n",
    "    def add(self,a,b):\n",
    "        print('this is in grand_parent: ',a+b)\n",
    "        \n",
    "class parent(grand_parent):\n",
    "    def add(self,a,b):\n",
    "        super().add(100,200)       # this target grand_parent\n",
    "        print('this is in parent: ',a-b)\n",
    "        \n",
    "class child(parent):\n",
    "    def add(self,a,b):\n",
    "        print('this is in child: ',a/b)\n",
    "        super().add(10,20)         # this target paren\n",
    "\n",
    "obj=child()\n",
    "obj.add(100,200)"
   ]
  },
  {
   "cell_type": "code",
   "execution_count": 26,
   "id": "df37dc4b-5fa0-4b65-9b96-c045e0de03c0",
   "metadata": {},
   "outputs": [
    {
     "name": "stdout",
     "output_type": "stream",
     "text": [
      "this is child class\n",
      "this is in parent class\n",
      "this is grand parent\n"
     ]
    }
   ],
   "source": [
    "class grand_parent:\n",
    "    a=100\n",
    "    def __init__(self):\n",
    "        print('this is grand parent')\n",
    "\n",
    "class parent(grand_parent):\n",
    "    b=200\n",
    "    def __init__(self):\n",
    "        print('this is in parent class')\n",
    "        super().__init__()\n",
    "\n",
    "class child(parent):\n",
    "    c=300\n",
    "    def __init__(self):\n",
    "        print('this is child class')\n",
    "        super().__init__()\n",
    "\n",
    "obj=child()"
   ]
  },
  {
   "cell_type": "code",
   "execution_count": 25,
   "id": "1934bdca-b82e-4b86-9730-a83be9d9c40a",
   "metadata": {},
   "outputs": [
    {
     "name": "stdout",
     "output_type": "stream",
     "text": [
      "this is child class\n",
      "this is parent class\n",
      "this is child class\n"
     ]
    }
   ],
   "source": [
    "class grand_parent:\n",
    "    a=100\n",
    "    def __init__(self,hello):\n",
    "        print(hello)\n",
    "\n",
    "class parent(grand_parent):\n",
    "    b=200\n",
    "    def __init__(self,random,hello):\n",
    "        print(random)\n",
    "        super().__init__(hello)\n",
    "\n",
    "class child(parent):\n",
    "    c=300\n",
    "    def __init__(self,master,random,hello):\n",
    "        print(master)\n",
    "        super().__init__(random,hello)\n",
    "\n",
    "obj=child('this is child class','this is parent class','this is child class')"
   ]
  },
  {
   "cell_type": "markdown",
   "id": "0c90cd9e-4890-497f-98ba-f1d40da8b4c5",
   "metadata": {},
   "source": [
    "# MULTIPLE INHERITANCE"
   ]
  },
  {
   "cell_type": "code",
   "execution_count": 33,
   "id": "8f6f4f5f-77ab-4dc2-bc64-483fa7b8b5b0",
   "metadata": {},
   "outputs": [
    {
     "name": "stdout",
     "output_type": "stream",
     "text": [
      "100\n",
      "200\n",
      "300\n"
     ]
    }
   ],
   "source": [
    "class p1:\n",
    "    a=100\n",
    "\n",
    "class p2:\n",
    "    b=200\n",
    "\n",
    "class child(p1,p2):\n",
    "    c=300\n",
    "\n",
    "obj=child()\n",
    "\n",
    "print(obj.a)\n",
    "print(obj.b)\n",
    "print(obj.c)"
   ]
  },
  {
   "cell_type": "code",
   "execution_count": 43,
   "id": "604ec8bc-14a6-414a-8244-fd192e62d85a",
   "metadata": {},
   "outputs": [
    {
     "name": "stdout",
     "output_type": "stream",
     "text": [
      "this is child:  20000\n",
      "this is p1:  30\n"
     ]
    }
   ],
   "source": [
    "class p1:\n",
    "    def add(self,a,b):\n",
    "        print('this is p1: ',a+b)\n",
    "\n",
    "class p2:\n",
    "    def add(self,a,b):\n",
    "        print('this is p2: ',a-b)\n",
    "\n",
    "class child(p1,p2):\n",
    "    def add(self,a,b):\n",
    "        print('this is child: ',a*b)\n",
    "        super().add(10,20)\n",
    "\n",
    "obj=child()\n",
    "\n",
    "obj.add(100,200)"
   ]
  },
  {
   "cell_type": "code",
   "execution_count": 69,
   "id": "2e295c51-358c-4b19-8df5-44d08e291604",
   "metadata": {},
   "outputs": [
    {
     "name": "stdout",
     "output_type": "stream",
     "text": [
      "this is child class constrctor\n",
      "this is p1 constructor\n"
     ]
    }
   ],
   "source": [
    "class p1:\n",
    "    a=100\n",
    "    def __init__(self):\n",
    "        print('this is p1 constructor')\n",
    "\n",
    "class p2:\n",
    "    b=200\n",
    "    def __init__(self):\n",
    "        print('this is p2 constructor')\n",
    "\n",
    "class child(p1,p2):\n",
    "    c=300\n",
    "    def __init__(self):\n",
    "        print('this is child class constrctor')\n",
    "        super().__init__()\n",
    "\n",
    "obj=child()"
   ]
  }
 ],
 "metadata": {
  "kernelspec": {
   "display_name": "Python 3 (ipykernel)",
   "language": "python",
   "name": "python3"
  },
  "language_info": {
   "codemirror_mode": {
    "name": "ipython",
    "version": 3
   },
   "file_extension": ".py",
   "mimetype": "text/x-python",
   "name": "python",
   "nbconvert_exporter": "python",
   "pygments_lexer": "ipython3",
   "version": "3.11.9"
  },
  "widgets": {
   "application/vnd.jupyter.widget-state+json": {
    "state": {},
    "version_major": 2,
    "version_minor": 0
   }
  }
 },
 "nbformat": 4,
 "nbformat_minor": 5
}
