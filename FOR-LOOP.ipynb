{
 "cells": [
  {
   "cell_type": "markdown",
   "id": "98f81d4e-d01e-4813-a836-f94a19aa8353",
   "metadata": {},
   "source": [
    "# AUTHOR : JITESH SHELKE"
   ]
  },
  {
   "cell_type": "markdown",
   "id": "a10dd1c8-aaf1-4f4c-9f30-9f366d9fb38c",
   "metadata": {},
   "source": [
    "# FOR LOOP"
   ]
  },
  {
   "cell_type": "code",
   "execution_count": 2,
   "id": "7725e521-2687-4d73-b9ac-b3893f947e58",
   "metadata": {},
   "outputs": [
    {
     "name": "stdout",
     "output_type": "stream",
     "text": [
      "0\n",
      "1\n",
      "2\n",
      "3\n",
      "4\n",
      "5\n",
      "6\n",
      "7\n",
      "8\n",
      "9\n"
     ]
    }
   ],
   "source": [
    "# 1. Basic For Loop\n",
    "\n",
    "for i in range(10):\n",
    "    print(i)"
   ]
  },
  {
   "cell_type": "code",
   "execution_count": 4,
   "id": "6bba2970-d9c7-4aef-8107-e3ee68ad1839",
   "metadata": {},
   "outputs": [
    {
     "name": "stdout",
     "output_type": "stream",
     "text": [
      "banana\n",
      "apple\n",
      "mango\n"
     ]
    }
   ],
   "source": [
    "# 2. Loop Through a List\n",
    "\n",
    "ls=['banana','apple','mango']\n",
    "for i in ls:\n",
    "    print(i)"
   ]
  },
  {
   "cell_type": "code",
   "execution_count": 12,
   "id": "1d7f424c-613f-4d9f-af7e-e3ed5645e408",
   "metadata": {},
   "outputs": [
    {
     "name": "stdout",
     "output_type": "stream",
     "text": [
      "one\n",
      "two\n",
      "three\n",
      "\n",
      "\n",
      "10\n",
      "20\n",
      "30\n",
      "\n",
      "\n",
      "('one', 10)\n",
      "('two', 20)\n",
      "('three', 30)\n"
     ]
    }
   ],
   "source": [
    "# 3. Loop Through a Dictionary\n",
    "\n",
    "dictt={'one':10,'two':20,'three':30}\n",
    "\n",
    "for i in dictt.keys():    #only gievs keys\n",
    "    print(i)\n",
    "print('\\n')\n",
    "for i in dictt.values():  # only gives values \n",
    "    print(i)\n",
    "print('\\n')\n",
    "for i in dictt.items():   #give both key and value\n",
    "    print(i)"
   ]
  },
  {
   "cell_type": "code",
   "execution_count": 13,
   "id": "ad4be5b0-aa88-4fbb-9aed-24ffa1d986e5",
   "metadata": {},
   "outputs": [
    {
     "name": "stdout",
     "output_type": "stream",
     "text": [
      "(0, 10)\n",
      "(1, 11)\n",
      "(2, 12)\n",
      "(3, 13)\n",
      "(4, 14)\n",
      "(5, 15)\n",
      "(6, 16)\n",
      "(7, 17)\n",
      "(8, 18)\n",
      "(9, 19)\n"
     ]
    }
   ],
   "source": [
    "# 4. Using enumerate()\n",
    "\n",
    "for i in enumerate(range(10,20)): #pair of index number with value\n",
    "    print(i)"
   ]
  },
  {
   "cell_type": "code",
   "execution_count": 32,
   "id": "49f18d37-f8e4-4696-82e3-983b48eca1e5",
   "metadata": {},
   "outputs": [
    {
     "name": "stdout",
     "output_type": "stream",
     "text": [
      "0 0\n",
      "0 1\n",
      "0 2\n",
      "1 0\n",
      "1 1\n",
      "1 2\n",
      "2 0\n",
      "2 1\n",
      "2 2\n"
     ]
    }
   ],
   "source": [
    "# 5. Nested For Loop\n",
    "\n",
    "for i in range(3):\n",
    "    for j in range(3):\n",
    "        print(i,j)"
   ]
  },
  {
   "cell_type": "code",
   "execution_count": 25,
   "id": "38ebfb73-02a1-47b3-a344-99d2a3a48882",
   "metadata": {},
   "outputs": [
    {
     "name": "stdout",
     "output_type": "stream",
     "text": [
      "0\n",
      "1\n",
      "2\n",
      "3\n",
      "4\n",
      "6\n",
      "7\n"
     ]
    }
   ],
   "source": [
    "# 6. For Loop with break and continue\n",
    "\n",
    "for i in range(10):\n",
    "    if i==5:         # skip 5 number\n",
    "        continue\n",
    "    if i==8:         # break loop if i==8\n",
    "        break\n",
    "    print(i)"
   ]
  },
  {
   "cell_type": "code",
   "execution_count": 33,
   "id": "80e32509-8b11-433b-883a-b180688079fc",
   "metadata": {},
   "outputs": [
    {
     "name": "stdout",
     "output_type": "stream",
     "text": [
      "p\n",
      "y\n",
      "t\n",
      "h\n",
      "o\n",
      "n\n"
     ]
    }
   ],
   "source": [
    "# 7. Looping Through a String\n",
    "\n",
    "for i in \"python\":\n",
    "    print(i)"
   ]
  },
  {
   "cell_type": "code",
   "execution_count": 38,
   "id": "78b0dccb-aef3-4361-b736-6c1fa7f5ac78",
   "metadata": {},
   "outputs": [
    {
     "name": "stdout",
     "output_type": "stream",
     "text": [
      "*\n",
      "**\n",
      "***\n",
      "****\n"
     ]
    }
   ],
   "source": [
    "# 8. Creating a Pattern\n",
    "\n",
    "row=5\n",
    "for i in range(1,row):\n",
    "    print( \"*\" * i)"
   ]
  },
  {
   "cell_type": "code",
   "execution_count": 40,
   "id": "0dda173e-4717-4688-bb12-030432d3c668",
   "metadata": {},
   "outputs": [
    {
     "name": "stdout",
     "output_type": "stream",
     "text": [
      "[1, 4, 9, 16, 25, 36, 49, 64, 81]\n"
     ]
    }
   ],
   "source": [
    "# 9. List Comprehension Alternative\n",
    "\n",
    "ls=[i**2 for i in range(1,10)]\n",
    "print(ls)"
   ]
  }
 ],
 "metadata": {
  "kernelspec": {
   "display_name": "Python 3 (ipykernel)",
   "language": "python",
   "name": "python3"
  },
  "language_info": {
   "codemirror_mode": {
    "name": "ipython",
    "version": 3
   },
   "file_extension": ".py",
   "mimetype": "text/x-python",
   "name": "python",
   "nbconvert_exporter": "python",
   "pygments_lexer": "ipython3",
   "version": "3.11.9"
  },
  "widgets": {
   "application/vnd.jupyter.widget-state+json": {
    "state": {},
    "version_major": 2,
    "version_minor": 0
   }
  }
 },
 "nbformat": 4,
 "nbformat_minor": 5
}
