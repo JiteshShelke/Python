{
 "cells": [
  {
   "cell_type": "markdown",
   "id": "98f81d4e-d01e-4813-a836-f94a19aa8353",
   "metadata": {},
   "source": [
    "# AUTHOR : JITESH SHELKE"
   ]
  },
  {
   "cell_type": "markdown",
   "id": "a10dd1c8-aaf1-4f4c-9f30-9f366d9fb38c",
   "metadata": {},
   "source": [
    "# FOR LOOP"
   ]
  },
  {
   "cell_type": "code",
   "execution_count": 2,
   "id": "7725e521-2687-4d73-b9ac-b3893f947e58",
   "metadata": {},
   "outputs": [
    {
     "name": "stdout",
     "output_type": "stream",
     "text": [
      "0\n",
      "1\n",
      "2\n",
      "3\n",
      "4\n",
      "5\n",
      "6\n",
      "7\n",
      "8\n",
      "9\n"
     ]
    }
   ],
   "source": [
    "# 1. Basic For Loop\n",
    "\n",
    "for i in range(10):\n",
    "    print(i)"
   ]
  },
  {
   "cell_type": "code",
   "execution_count": 4,
   "id": "6bba2970-d9c7-4aef-8107-e3ee68ad1839",
   "metadata": {},
   "outputs": [
    {
     "name": "stdout",
     "output_type": "stream",
     "text": [
      "banana\n",
      "apple\n",
      "mango\n"
     ]
    }
   ],
   "source": [
    "# 2. Loop Through a List\n",
    "\n",
    "ls=['banana','apple','mango']\n",
    "for i in ls:\n",
    "    print(i)"
   ]
  },
  {
   "cell_type": "code",
   "execution_count": 12,
   "id": "1d7f424c-613f-4d9f-af7e-e3ed5645e408",
   "metadata": {},
   "outputs": [
    {
     "name": "stdout",
     "output_type": "stream",
     "text": [
      "one\n",
      "two\n",
      "three\n",
      "\n",
      "\n",
      "10\n",
      "20\n",
      "30\n",
      "\n",
      "\n",
      "('one', 10)\n",
      "('two', 20)\n",
      "('three', 30)\n"
     ]
    }
   ],
   "source": [
    "# 3. Loop Through a Dictionary\n",
    "\n",
    "dictt={'one':10,'two':20,'three':30}\n",
    "\n",
    "for i in dictt.keys():    #only gievs keys\n",
    "    print(i)\n",
    "print('\\n')\n",
    "for i in dictt.values():  # only gives values \n",
    "    print(i)\n",
    "print('\\n')\n",
    "for i in dictt.items():   #give both key and value\n",
    "    print(i)"
   ]
  },
  {
   "cell_type": "code",
   "execution_count": 13,
   "id": "ad4be5b0-aa88-4fbb-9aed-24ffa1d986e5",
   "metadata": {},
   "outputs": [
    {
     "name": "stdout",
     "output_type": "stream",
     "text": [
      "(0, 10)\n",
      "(1, 11)\n",
      "(2, 12)\n",
      "(3, 13)\n",
      "(4, 14)\n",
      "(5, 15)\n",
      "(6, 16)\n",
      "(7, 17)\n",
      "(8, 18)\n",
      "(9, 19)\n"
     ]
    }
   ],
   "source": [
    "# 4. Using enumerate()\n",
    "\n",
    "for i in enumerate(range(10,20)): #pair of index number with value\n",
    "    print(i)"
   ]
  },
  {
   "cell_type": "code",
   "execution_count": 32,
   "id": "49f18d37-f8e4-4696-82e3-983b48eca1e5",
   "metadata": {},
   "outputs": [
    {
     "name": "stdout",
     "output_type": "stream",
     "text": [
      "0 0\n",
      "0 1\n",
      "0 2\n",
      "1 0\n",
      "1 1\n",
      "1 2\n",
      "2 0\n",
      "2 1\n",
      "2 2\n"
     ]
    }
   ],
   "source": [
    "# 5. Nested For Loop\n",
    "\n",
    "for i in range(3):\n",
    "    for j in range(3):\n",
    "        print(i,j)"
   ]
  },
  {
   "cell_type": "code",
   "execution_count": 25,
   "id": "38ebfb73-02a1-47b3-a344-99d2a3a48882",
   "metadata": {},
   "outputs": [
    {
     "name": "stdout",
     "output_type": "stream",
     "text": [
      "0\n",
      "1\n",
      "2\n",
      "3\n",
      "4\n",
      "6\n",
      "7\n"
     ]
    }
   ],
   "source": [
    "# 6. For Loop with break and continue\n",
    "\n",
    "for i in range(10):\n",
    "    if i==5:         # skip 5 number\n",
    "        continue\n",
    "    if i==8:         # break loop if i==8\n",
    "        break\n",
    "    print(i)"
   ]
  },
  {
   "cell_type": "code",
   "execution_count": 33,
   "id": "80e32509-8b11-433b-883a-b180688079fc",
   "metadata": {},
   "outputs": [
    {
     "name": "stdout",
     "output_type": "stream",
     "text": [
      "p\n",
      "y\n",
      "t\n",
      "h\n",
      "o\n",
      "n\n"
     ]
    }
   ],
   "source": [
    "# 7. Looping Through a String\n",
    "\n",
    "for i in \"python\":\n",
    "    print(i)"
   ]
  },
  {
   "cell_type": "code",
   "execution_count": 38,
   "id": "78b0dccb-aef3-4361-b736-6c1fa7f5ac78",
   "metadata": {},
   "outputs": [
    {
     "name": "stdout",
     "output_type": "stream",
     "text": [
      "*\n",
      "**\n",
      "***\n",
      "****\n"
     ]
    }
   ],
   "source": [
    "# 8. Creating a Pattern\n",
    "\n",
    "row=5\n",
    "for i in range(1,row):\n",
    "    print( \"*\" * i)"
   ]
  },
  {
   "cell_type": "code",
   "execution_count": 40,
   "id": "0dda173e-4717-4688-bb12-030432d3c668",
   "metadata": {},
   "outputs": [
    {
     "name": "stdout",
     "output_type": "stream",
     "text": [
      "[1, 4, 9, 16, 25, 36, 49, 64, 81]\n"
     ]
    }
   ],
   "source": [
    "# 9. List Comprehension Alternative\n",
    "\n",
    "ls=[i**2 for i in range(1,10)]\n",
    "print(ls)"
   ]
  },
  {
   "cell_type": "markdown",
   "id": "4b2c9dc3-c5d1-44e8-ae95-59aac03c004f",
   "metadata": {},
   "source": [
    "# PRACTICE QUESTIONS"
   ]
  },
  {
   "cell_type": "markdown",
   "id": "e90d45cd-f967-4908-99b0-50ac0a3b21ce",
   "metadata": {},
   "source": [
    "0 WAP TO PRINT TABLE FOR USING GIVE NUMBER\n",
    "\n",
    "1 WAP TO PRINT ALL THE CHAR OF A GIVEN \n",
    "\n",
    "2 WAP TO SEGREGATE THE VALUE FROM 1-50 INTO EVEN AND ODD NUMBERS INTO LIST\n",
    "\n",
    "3 WAP TO EXTRACT VOWELS AND DIGITS FROM A GIVEN STRING\n",
    "\n",
    "4 WAP TO CAPIALIZZE ONLY THE FIRST LETTER OF EVERY WORD IN THE GIVEN LIST\n",
    "\n",
    "5 WAP TO EXTRACT ONLY INDIVIDUAL DATA TYPE FROM THE LIST\n",
    "\n",
    "6 WAP TO EXTRACT ONLY COLLECTION DATA TYPES FROM GIVEN LIST\n",
    "\n",
    "7 WAP TO EXTRACT ONLY THE INDIVIDUAL DATATYPES FROM THE LIST AND SUM OF ALL THE INDIVIDUAL DATATYPES\n",
    "\n",
    "8 WAP TO PRINT THE COUNT OF ALPHABETS AND NUMNBER AND SPACE IN THE GIVEN STRING\n",
    "\n",
    "9 WAP TO CHECK HOW MANY WORDS WORDS ARE PRESENT IN THW GIVEN SENETECE\n",
    "\n",
    "10 WAP TO CREATE A DICT AND PRINT THE CHARACTERS AND ITS ASCII VALUE PAIR\n",
    "\n",
    "11 WAP TO CREATE A DICT AND TRAVERESE INTO IT AND IF THE LENGTH IS EVEN PRINT AS IT ELSE REVERSE IT\n",
    "\n",
    "12 WAP TO FIND THE FACTORIAL OF A NUMBER GIVEN BY USER\n",
    "\n",
    "13 Write a Python program that counts how many times each color appears in the list and stores the counts in a dictionary, where the keys are the \n",
    "colors and the values are their counts.\n",
    "\n",
    "14 WAP TO FIND THE SUM OF ALL NUMBERS PRESENT INSIDE A GIVEN STRING\n",
    "\n",
    "15 WAP TO PRINT THE EVEN POSITIONAL CHARACTES FROM A GIVEN STRING USING FOR LOOP\n",
    "\n",
    "16 WAP TO FIND LENGTH OF A STRING WITHOUR USINF LENGTH FUUNCTION\n",
    "\n",
    "17 WAP TO COUNT THE OCCURANCES OF ALL THE CHARACTES PRESENT INSIDE THE GIVEN STRING\n",
    "\n",
    "18 WAP TO REMOVE THE DUPLICATES FROM A LIST TAKEN BY USER\n"
   ]
  },
  {
   "cell_type": "code",
   "execution_count": 2,
   "id": "cab080cb-17f0-4c5f-ba90-c7d8642300ba",
   "metadata": {},
   "outputs": [
    {
     "name": "stdout",
     "output_type": "stream",
     "text": [
      "2\n",
      "4\n",
      "6\n",
      "8\n",
      "10\n",
      "12\n",
      "14\n",
      "16\n",
      "18\n",
      "20\n"
     ]
    }
   ],
   "source": [
    "num=2\n",
    "for i in range(1,11):\n",
    "    print(i*num)"
   ]
  },
  {
   "cell_type": "code",
   "execution_count": 3,
   "id": "a8133f77-4d1f-4181-9e51-21618b370bfa",
   "metadata": {},
   "outputs": [
    {
     "name": "stdout",
     "output_type": "stream",
     "text": [
      "[2, 4, 6, 8, 10, 12, 14, 16, 18, 20, 22, 24, 26, 28, 30, 32, 34, 36, 38, 40, 42, 44, 46, 48, 50]\n",
      "[1, 3, 5, 7, 9, 11, 13, 15, 17, 19, 21, 23, 25, 27, 29, 31, 33, 35, 37, 39, 41, 43, 45, 47, 49]\n"
     ]
    }
   ],
   "source": [
    "# 2 WAP TO SEGREGATE THE VALUE FROM 1-50 INTO EVEN AND ODD NUMBERS INTO LIST\n",
    "\n",
    "even=[]\n",
    "odd=[]\n",
    "for i in range(1,51):\n",
    "    if i%2==0:\n",
    "        even.append(i)\n",
    "    else:\n",
    "        odd.append(i)\n",
    "print(even)\n",
    "print(odd)"
   ]
  },
  {
   "cell_type": "code",
   "execution_count": 5,
   "id": "1d1da29a-2671-4ac8-a355-0d6196c5b5d8",
   "metadata": {},
   "outputs": [
    {
     "name": "stdout",
     "output_type": "stream",
     "text": [
      "['a', 'e', 'i', 'i', 'e', 'e', 'e', 'o', 'i', 'e', 'u', 'e', 'i']\n",
      "['9', '1', '3', '7', '8', '4', '8', '2', '3', '8']\n"
     ]
    }
   ],
   "source": [
    "# 3 WAP TO EXTRACT VOWELS AND DIGITS FROM A GIVEN STRING\n",
    "\n",
    "strr=\"my name is jitesh shelke my mobile number is 9137848238\"\n",
    "\n",
    "vowels=[]\n",
    "digit=[]\n",
    "for i in strr:\n",
    "    if i in \"aeiou\":\n",
    "        vowels.append(i)\n",
    "    elif i in \"1234567890\":\n",
    "        digit.append(i)\n",
    "    else:\n",
    "        pass\n",
    "print(vowels)\n",
    "print(digit)      "
   ]
  },
  {
   "cell_type": "code",
   "execution_count": 11,
   "id": "c5e4aee9-f08e-4409-a8ea-ae725f73fb06",
   "metadata": {},
   "outputs": [
    {
     "name": "stdout",
     "output_type": "stream",
     "text": [
      "Banana\n",
      "Apple\n",
      "Mango\n"
     ]
    }
   ],
   "source": [
    "# 4 WAP TO CAPIALIZZE ONLY THE FIRST LETTER OF EVERY WORD IN THE GIVEN LIST\n",
    "\n",
    "ls=['banana','apple','mango']\n",
    "\n",
    "for i in ls:\n",
    "    print(i[0].capitalize()+i[1:len(i)])"
   ]
  },
  {
   "cell_type": "code",
   "execution_count": 14,
   "id": "7a756d2c-eacb-41c2-a207-e54f54909de6",
   "metadata": {},
   "outputs": [
    {
     "name": "stdout",
     "output_type": "stream",
     "text": [
      "10\n",
      "20\n",
      "True\n",
      "False\n",
      "(10+20j)\n"
     ]
    }
   ],
   "source": [
    "# 5 WAP TO EXTRACT ONLY INDIVIDUAL DATA TYPE FROM THE LIST\n",
    "\n",
    "ls=[10,20,True,False,10+20j,'master',(10,20,30),{10:100,20:200}]\n",
    "\n",
    "for i in ls:\n",
    "    if isinstance(i,(int,float,bool,complex)):\n",
    "        print(i)"
   ]
  },
  {
   "cell_type": "code",
   "execution_count": 15,
   "id": "c59ac828-6117-409c-b8ff-7b276cfa5a19",
   "metadata": {},
   "outputs": [
    {
     "name": "stdout",
     "output_type": "stream",
     "text": [
      "master\n",
      "(10, 20, 30)\n",
      "{10: 100, 20: 200}\n"
     ]
    }
   ],
   "source": [
    "# 6 WAP TO EXTRACT ONLY COLLECTION DATA TYPES FROM GIVEN LIST\n",
    "\n",
    "ls=[10,20,True,False,10+20j,'master',(10,20,30),{10:100,20:200}]\n",
    "\n",
    "for i in ls:\n",
    "    if isinstance(i,(str,list,set,tuple,dict)):\n",
    "        print(i)"
   ]
  },
  {
   "cell_type": "code",
   "execution_count": 16,
   "id": "b9a585f8-f1e0-4519-a8e4-c06e089a9c7f",
   "metadata": {},
   "outputs": [
    {
     "name": "stdout",
     "output_type": "stream",
     "text": [
      "(41+20j)\n"
     ]
    }
   ],
   "source": [
    "# 7 WAP TO EXTRACT ONLY THE INDIVIDUAL DATATYPES FROM THE LIST AND SUM OF ALL THE INDIVIDUAL DATATYPES\n",
    "\n",
    "sum=0\n",
    "for i in ls:\n",
    "    if isinstance(i,(int,float,bool,complex)):\n",
    "        sum+=i\n",
    "print(sum)"
   ]
  },
  {
   "cell_type": "code",
   "execution_count": 29,
   "id": "9a0a8f74-ab3e-4cc4-8740-eaea1968283a",
   "metadata": {},
   "outputs": [
    {
     "name": "stdout",
     "output_type": "stream",
     "text": [
      "number present is string    10\n",
      "alphabets present is string 36\n",
      "spaces present is string    11\n"
     ]
    }
   ],
   "source": [
    "# 8 WAP TO PRINT THE COUNT OF ALPHABETS AND NUMNBER AND SPACE IN THE GIVEN STRING\n",
    "\n",
    "strr=\"my name is jitesh shelke my  & mobile number is 9137848238\"\n",
    "\n",
    "alpha=0\n",
    "num=0\n",
    "space=0\n",
    "\n",
    "for i in strr:\n",
    "    if i in \"1234567890\":\n",
    "        num+=1\n",
    "    elif i in \"qwertyuiopasdfghjklzxcvbnmQWERTYUIOPASDFGHJKLZXCVBNM\":\n",
    "        alpha+=1\n",
    "    elif i in \" \":\n",
    "        space+=1\n",
    "    else:\n",
    "        # print(i , \"this is special char\")\n",
    "        pass\n",
    "        \n",
    "print(\"number present is string   \" , num)\n",
    "print(\"alphabets present is string\" , alpha)\n",
    "print(\"spaces present is string   \" , space)\n"
   ]
  },
  {
   "cell_type": "code",
   "execution_count": 4,
   "id": "705ab3fe-d452-474b-a034-a248bb922275",
   "metadata": {},
   "outputs": [
    {
     "name": "stdout",
     "output_type": "stream",
     "text": [
      "16\n"
     ]
    }
   ],
   "source": [
    "# 9 WAP TO CHECK HOW MANY WORDS WORDS ARE PRESENT IN THW GIVEN SENETECE\n",
    "\n",
    "strr=\"my name is suraj\"\n",
    "sum=0\n",
    "for i in strr:\n",
    "    sum+=1\n",
    "print(sum)"
   ]
  },
  {
   "cell_type": "code",
   "execution_count": 16,
   "id": "1e9a821a-1bb9-4018-b616-8c48a24a587c",
   "metadata": {},
   "outputs": [
    {
     "name": "stdout",
     "output_type": "stream",
     "text": [
      "{'b': 98, 'a': 97, 'n': 110}\n"
     ]
    }
   ],
   "source": [
    "# 10 WAP TO CREATE A DICT AND PRINT THE CHARACTERS AND ITS ASCII VALUE PAIR\n",
    "\n",
    "strr=\"banana\"\n",
    "\n",
    "dictt={}\n",
    "for i in strr:\n",
    "    dictt[i]=ord(i)\n",
    "print(dictt)"
   ]
  },
  {
   "cell_type": "code",
   "execution_count": 19,
   "id": "55033d31-d5c5-451a-80c1-ce2dc0d6d329",
   "metadata": {},
   "outputs": [
    {
     "name": "stdout",
     "output_type": "stream",
     "text": [
      "3628800\n"
     ]
    }
   ],
   "source": [
    "# 12 WAP TO FIND THE FACTORIAL OF A NUMBER GIVEN BY USER\n",
    "\n",
    "num=10\n",
    "sum=1\n",
    "for i in range(1,num+1):\n",
    "    sum*=i\n",
    "print(sum)"
   ]
  },
  {
   "cell_type": "code",
   "execution_count": 20,
   "id": "67ba6d46-8315-46cf-b0ce-400f90581da6",
   "metadata": {},
   "outputs": [
    {
     "name": "stdout",
     "output_type": "stream",
     "text": [
      "{'yellow': 2, 'red': 2, 'blue': 1, 'pink': 1}\n"
     ]
    }
   ],
   "source": [
    "# 13 Write a Python program that counts how many times each color appears \n",
    "# in the list and stores the counts in a dictionary, \n",
    "# where the keys are the colors and the values are their counts.\n",
    "\n",
    "ls=['yellow','red','yellow','red','blue','pink']\n",
    "\n",
    "dictt={}\n",
    "for i in ls:\n",
    "    if i in dictt:\n",
    "        dictt[i]+=1\n",
    "    else:\n",
    "        dictt[i]=1\n",
    "print(dictt)"
   ]
  },
  {
   "cell_type": "code",
   "execution_count": 23,
   "id": "cd4907f6-b80d-4e18-8ef2-e49b37198c88",
   "metadata": {},
   "outputs": [
    {
     "name": "stdout",
     "output_type": "stream",
     "text": [
      "89\n"
     ]
    }
   ],
   "source": [
    "# 14 WAP TO FIND THE SUM OF ALL NUMBERS PRESENT INSIDE A GIVEN STRING\n",
    "\n",
    "strr=\"my name is himanshu 4563728910000000029387465\"\n",
    "\n",
    "sum=0\n",
    "for i in strr:\n",
    "    if i in \"1234567890\":\n",
    "        sum+=int(i)\n",
    "print(sum)"
   ]
  },
  {
   "cell_type": "code",
   "execution_count": 31,
   "id": "1e7bc10d-f8b6-49af-ad1c-15d86ceb2f75",
   "metadata": {},
   "outputs": [
    {
     "name": "stdout",
     "output_type": "stream",
     "text": [
      "j\n",
      "t\n",
      "s\n"
     ]
    }
   ],
   "source": [
    "# 15 WAP TO PRINT THE EVEN POSITIONAL CHARACTES FROM A GIVEN STRING USING FOR LOOP\n",
    "\n",
    "strr=\"jitesh\"\n",
    "\n",
    "for i in range(0,len(strr)):\n",
    "    if i%2==0:\n",
    "        print(strr[i])\n",
    "    else:\n",
    "        pass"
   ]
  },
  {
   "cell_type": "code",
   "execution_count": 32,
   "id": "391eb50a-3dfd-499b-9ad2-33c4ec3532e0",
   "metadata": {},
   "outputs": [
    {
     "name": "stdout",
     "output_type": "stream",
     "text": [
      "6\n"
     ]
    }
   ],
   "source": [
    "# 16 WAP TO FIND LENGTH OF A STRING WITHOUR USINF LENGTH FUUNCTION\n",
    "\n",
    "strr=\"jitesh\"\n",
    "sum=0\n",
    "for i in strr:\n",
    "    sum+=1\n",
    "print(sum)"
   ]
  },
  {
   "cell_type": "code",
   "execution_count": 36,
   "id": "2da2b375-bd64-4521-8f25-2f4e1074fcdd",
   "metadata": {},
   "outputs": [
    {
     "name": "stdout",
     "output_type": "stream",
     "text": [
      "{'m': 2, 'y': 1, ' ': 4, 'n': 1, 'a': 1, 'e': 4, 'i': 2, 's': 3, 'j': 1, 't': 1, 'h': 2, 'l': 1, 'k': 1}\n"
     ]
    }
   ],
   "source": [
    "# 17 WAP TO COUNT THE OCCURANCES OF ALL THE CHARACTES PRESENT INSIDE THE GIVEN STRING\n",
    "\n",
    "strr=\"my name is jitesh shelke\"\n",
    "\n",
    "dictt={}\n",
    "for i in strr:\n",
    "    if i in dictt:\n",
    "        dictt[i]+=1\n",
    "    else:\n",
    "        dictt[i]=1\n",
    "print(dictt)"
   ]
  },
  {
   "cell_type": "code",
   "execution_count": 43,
   "id": "ae7bb585-cb0f-4978-bf46-e50d8fc54967",
   "metadata": {},
   "outputs": [
    {
     "name": "stdin",
     "output_type": "stream",
     "text": [
      " [10,20,304,204,204]\n"
     ]
    },
    {
     "name": "stdout",
     "output_type": "stream",
     "text": [
      "[10, 20, 304, 204]\n"
     ]
    }
   ],
   "source": [
    "# 18 WAP TO REMOVE THE DUPLICATES FROM A LIST TAKEN BY USER\n",
    "\n",
    "ls=eval(input(\"\"))\n",
    "new_ls=[]\n",
    "for i in ls:\n",
    "    if i not in new_ls:\n",
    "        new_ls.append(i)\n",
    "    else:\n",
    "        pass\n",
    "print(new_ls)"
   ]
  }
 ],
 "metadata": {
  "kernelspec": {
   "display_name": "Python 3 (ipykernel)",
   "language": "python",
   "name": "python3"
  },
  "language_info": {
   "codemirror_mode": {
    "name": "ipython",
    "version": 3
   },
   "file_extension": ".py",
   "mimetype": "text/x-python",
   "name": "python",
   "nbconvert_exporter": "python",
   "pygments_lexer": "ipython3",
   "version": "3.11.9"
  },
  "widgets": {
   "application/vnd.jupyter.widget-state+json": {
    "state": {},
    "version_major": 2,
    "version_minor": 0
   }
  }
 },
 "nbformat": 4,
 "nbformat_minor": 5
}
