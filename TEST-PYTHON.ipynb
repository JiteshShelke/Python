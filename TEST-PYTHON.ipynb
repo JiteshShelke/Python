{
 "cells": [
  {
   "cell_type": "markdown",
   "id": "7a957e52-86b9-46f1-8849-11db1c26d6d0",
   "metadata": {},
   "source": [
    "# AUTHOR : JITESH SHELKE"
   ]
  },
  {
   "cell_type": "markdown",
   "id": "ffc06b6c-d159-45f5-b920-b63df5293d1b",
   "metadata": {},
   "source": [
    "# TEST"
   ]
  },
  {
   "cell_type": "markdown",
   "id": "d565354e-66d1-47bd-88bc-0dd8bcc69dd2",
   "metadata": {},
   "source": [
    "1. Write a program to return the positions of vowels present in the given string.\n",
    "\n",
    "2. Write a program to find the length of a collection without using the len() function.\n",
    "\n",
    "3. Write a program to check whether the entered username and password are correct or not; if not correct, print \"Enter again\".\n",
    "\n",
    "4. Write a program to extract all integer data items from a tuple.\n",
    "\n",
    "5. Write a program to extract all the non-default values from a list.\n",
    "(Note: You may need to define what \"default\" means in your context — e.g., None, 0, empty strings, etc.)\n",
    "\n",
    "6. Write a program to take a homogeneous integer list from the user and divide the input into two different collections: one with all even values and the other with odd values. (Use a while loop)\n",
    "\n",
    "7. Write a program to check whether the elements inside the list have even or odd lengths, and return the result as a dictionary:\n",
    "Example input:\n",
    "[\"apple\", \"samsung\", \"oracle\", \"flipcart\", \"facebook\", \"instagram\", \"amazon\", \"ebay\"]\n",
    "Expected output:\n",
    "{'odd': ['apple', 'samsung', 'instagram'], 'even': ['oracle', 'flipcart', 'facebook', 'amazon', 'ebay']}\n",
    "\n",
    "8. Write a program to traverse through a string and stop the execution at a specified character using the break keyword.\n",
    "Example:\n",
    "s = \"hello guys tomorrow holiday\"  \n",
    "specified character = \"d\"\n",
    "\n",
    "\n",
    "10. Write a program to print only the double-digit numbers present in a list using the continue keyword.\n",
    "Example input:\n",
    "[2, 3, 45, 67, 89, 11, 2, 3, 4, 5, 6, 7, 8, 11]\n",
    "\n",
    "\n",
    "10. Write a program to print only the positive numbers from a list using the continue keyword.\n",
    "Example input:\n",
    "[1, 5, -2, -45, 55, 88, -100, -63]\n",
    "\n",
    "\n",
    "12. Write a program to extract all the vowels and consonants into their respective lists from a string taken as input from the user. (Use a while loop)"
   ]
  },
  {
   "cell_type": "code",
   "execution_count": 50,
   "id": "996ddf31-8cd8-41cf-99ef-337f0af3627b",
   "metadata": {},
   "outputs": [
    {
     "name": "stdout",
     "output_type": "stream",
     "text": [
      "e 2\n",
      "i 5\n",
      "o 6\n",
      "i 9\n",
      "a 14\n",
      "e 16\n"
     ]
    }
   ],
   "source": [
    "# Q1 . WRITE A PROGRAM TO RETURN THE POSISTION OF VOWELS PRESENT IN THE GIVEN STRING\n",
    "\n",
    "strr='the lion is brave'\n",
    "\n",
    "for i in range(len(strr)):\n",
    "  if strr[i] in \"aeiouAEIOU\":\n",
    "    print(strr[i],i)"
   ]
  },
  {
   "cell_type": "code",
   "execution_count": 51,
   "id": "59ad940d-c1d2-4ac5-8af6-32d149f4453f",
   "metadata": {},
   "outputs": [
    {
     "name": "stdout",
     "output_type": "stream",
     "text": [
      "4\n"
     ]
    }
   ],
   "source": [
    "# 2 Write a program to find the length of a collection without using the len() function.\n",
    "\n",
    "ls=[10,20,30,40]\n",
    "length=0\n",
    "\n",
    "for i in ls:\n",
    "    length+=1\n",
    "print(length)"
   ]
  },
  {
   "cell_type": "code",
   "execution_count": 6,
   "id": "87cd23f8-25dd-4db9-9451-604ae766bfc8",
   "metadata": {},
   "outputs": [
    {
     "name": "stdin",
     "output_type": "stream",
     "text": [
      " admin\n",
      " admin1234\n"
     ]
    },
    {
     "name": "stdout",
     "output_type": "stream",
     "text": [
      "password is wrong\n"
     ]
    }
   ],
   "source": [
    "# 3. Write a program to whether the entered username and password is correct or not if not correct print enter again.\n",
    "\n",
    "username=input()\n",
    "password=input()\n",
    "\n",
    "if username=='admin':\n",
    "    if password=='admin123':\n",
    "        print('login successfull')\n",
    "    else:\n",
    "        print('password is wrong')\n",
    "else:\n",
    "    print('enter again')"
   ]
  },
  {
   "cell_type": "code",
   "execution_count": 8,
   "id": "c7597a49-2e40-4837-9cd8-de1170612b24",
   "metadata": {},
   "outputs": [
    {
     "name": "stdout",
     "output_type": "stream",
     "text": [
      "10\n",
      "20\n"
     ]
    }
   ],
   "source": [
    "# 4. Write a program to extract all integer data items from tuple.\n",
    "\n",
    "data=(10,20,10.10,10+20j,'admin',{10:10})\n",
    "\n",
    "for i in data:\n",
    "    if isinstance(i,int):\n",
    "        print(i)"
   ]
  },
  {
   "cell_type": "code",
   "execution_count": 9,
   "id": "4619b9a9-51ca-46c0-bd2b-258bca8d43a7",
   "metadata": {},
   "outputs": [
    {
     "name": "stdout",
     "output_type": "stream",
     "text": [
      "10\n",
      "20\n",
      "30\n"
     ]
    }
   ],
   "source": [
    "# 5. Write a program to extract all the non default values from the list.\n",
    "\n",
    "ls=[10,20,30,0,0j,set(),'',[],0.0]\n",
    "\n",
    "for i in ls:\n",
    "    if bool(i)==True:\n",
    "        print(i)"
   ]
  },
  {
   "cell_type": "code",
   "execution_count": 12,
   "id": "41d0b2a9-a05e-4791-8c10-0a521d1b8020",
   "metadata": {},
   "outputs": [
    {
     "name": "stdout",
     "output_type": "stream",
     "text": [
      "[2, 4, 6, 8, 10]\n",
      "[1, 3, 5, 9]\n"
     ]
    }
   ],
   "source": [
    "# 6. WAP to take a homogenous integer list from the user, \n",
    "# divide the input into 2 different collections where the first \n",
    "# collection have all the even values whereas the other one have odd\n",
    "# values(use while loop).\n",
    "\n",
    "ls=[1,2,3,4,5,6,8,9,10]\n",
    "\n",
    "even=[]\n",
    "odd=[]\n",
    "i=0\n",
    "while i<len(ls):\n",
    "  if ls[i]%2==0:\n",
    "    even.append(ls[i])\n",
    "  else:\n",
    "    odd.append(ls[i])\n",
    "  i+=1\n",
    "print(even)\n",
    "print(odd)"
   ]
  },
  {
   "cell_type": "code",
   "execution_count": 32,
   "id": "48af4a0c-72f4-4019-b2a2-228afa5eeaeb",
   "metadata": {},
   "outputs": [
    {
     "data": {
      "text/plain": [
       "{'odd': ['apple', 'samsung', 'instagram'],\n",
       " 'even': ['oracle', 'flipcart', 'facebook', 'amazon', 'ebay']}"
      ]
     },
     "execution_count": 32,
     "metadata": {},
     "output_type": "execute_result"
    }
   ],
   "source": [
    "# 7. wap to check whether the elements inside the list is even or odd and i want the dictionary pair\n",
    "# ls=[\"apple\", \"samsung\", \"oracle\", \"flipcart\", \"facebook\", \"instagram\", \"amazon\", \"ebay\"] \n",
    "# o/p:-→>{'odd': ['apple', 'samsung', 'instagram'], 'even': l'oracle\", flipcart, facebook, 'amazon','ebay']}\n",
    "\n",
    "ls=[\"apple\", \"samsung\", \"oracle\", \"flipcart\", \"facebook\", \"instagram\", \"amazon\", \"ebay\"] \n",
    "\n",
    "\n",
    "dictt={'odd':[],'even':[]}\n",
    "for i in ls:\n",
    "    if len(i)%2==0:\n",
    "        dictt['even'].append(i)\n",
    "    else:\n",
    "        dictt['odd'].append(i)\n",
    "\n",
    "dictt"
   ]
  },
  {
   "cell_type": "code",
   "execution_count": 34,
   "id": "b4be652b-c97d-4d07-90fd-159d5cd0878b",
   "metadata": {},
   "outputs": [
    {
     "name": "stdout",
     "output_type": "stream",
     "text": [
      "h\n",
      "e\n",
      "l\n",
      "l\n",
      "o\n",
      " \n",
      "g\n",
      "u\n",
      "y\n",
      "s\n",
      " \n",
      "t\n",
      "o\n",
      "m\n",
      "o\n",
      "r\n",
      "r\n",
      "o\n",
      "w\n",
      " \n",
      "h\n",
      "o\n",
      "l\n",
      "i\n",
      "d\n"
     ]
    }
   ],
   "source": [
    "# 8. wap to traverse through a string and stop the execution at specified characters by useing\n",
    "# break keyword\n",
    "# s=\"hello guys tomorrow holiday\"\n",
    "# specified char=\"d\"\n",
    "\n",
    "s=\"hello guys tomorrow holiday\"\n",
    "char=\"d\"\n",
    "\n",
    "for i in s:\n",
    "    print(i)\n",
    "    if i==char:\n",
    "        break"
   ]
  },
  {
   "cell_type": "code",
   "execution_count": 40,
   "id": "69df4ae9-3b34-4665-b1a4-0fa5d43a982b",
   "metadata": {},
   "outputs": [
    {
     "name": "stdout",
     "output_type": "stream",
     "text": [
      "45\n",
      "67\n",
      "89\n",
      "11\n",
      "11\n"
     ]
    }
   ],
   "source": [
    "# 9. wap to print double digit numbers present in list by useing continue keyword\n",
    "# ls=(2,3,45,67,89,11,2,3,4,5,6,7,8,11]\n",
    "\n",
    "ls=[2,3,45,67,89,11,2,3,4,5,6,7,8,11]\n",
    "for i in ls:\n",
    "    if i in [0,1,2,3,4,5,6,7,8,9]:\n",
    "        continue\n",
    "    print(i)"
   ]
  },
  {
   "cell_type": "code",
   "execution_count": 41,
   "id": "0101cf4f-a3d9-44dd-a469-6fe90d837fb8",
   "metadata": {},
   "outputs": [
    {
     "name": "stdout",
     "output_type": "stream",
     "text": [
      "1\n",
      "5\n",
      "55\n",
      "88\n"
     ]
    }
   ],
   "source": [
    "# 10, wap to print only postive numbers by using continue keyword\n",
    "# ls=(1,5,-2,-45,55,88,-100,-63]\n",
    "\n",
    "ls=[1,5,-2,-45,55,88,-100,-63]\n",
    "\n",
    "for i in ls:\n",
    "    if i<0:\n",
    "        continue\n",
    "    print(i)"
   ]
  },
  {
   "cell_type": "code",
   "execution_count": 48,
   "id": "1d3789c8-cbef-4a5e-afa4-cc9d9f2eab2b",
   "metadata": {},
   "outputs": [
    {
     "name": "stdout",
     "output_type": "stream",
     "text": [
      "['i', 'o', 'i', 'a', 'e']\n",
      "['l', 'n', ' ', 's', ' ', 'b', 'r', 'v']\n"
     ]
    }
   ],
   "source": [
    "# 11. WAP to extract all the vowels and consonents in the respective lists form a string taken as input from the user.(use while loop)\n",
    "\n",
    "vowel=[]\n",
    "cons=[]\n",
    "\n",
    "strr='lion is brave'\n",
    "\n",
    "i=0\n",
    "while i<len(strr):\n",
    "    if strr[i] in 'aeiouAEIOU':\n",
    "        vowel.append(strr[i])\n",
    "    else:\n",
    "        cons.append(strr[i])\n",
    "    i+=1\n",
    "print(vowel)\n",
    "print(cons)"
   ]
  }
 ],
 "metadata": {
  "kernelspec": {
   "display_name": "Python 3 (ipykernel)",
   "language": "python",
   "name": "python3"
  },
  "language_info": {
   "codemirror_mode": {
    "name": "ipython",
    "version": 3
   },
   "file_extension": ".py",
   "mimetype": "text/x-python",
   "name": "python",
   "nbconvert_exporter": "python",
   "pygments_lexer": "ipython3",
   "version": "3.11.9"
  },
  "widgets": {
   "application/vnd.jupyter.widget-state+json": {
    "state": {},
    "version_major": 2,
    "version_minor": 0
   }
  }
 },
 "nbformat": 4,
 "nbformat_minor": 5
}
