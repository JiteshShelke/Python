{
 "cells": [
  {
   "cell_type": "markdown",
   "id": "badfb6a2-c31d-4c07-8d2d-95305cd202cb",
   "metadata": {},
   "source": [
    "# AUTHOR: JITESH SHELKE"
   ]
  },
  {
   "cell_type": "markdown",
   "id": "5d31381f-3f95-42f1-9966-eea1723ea7fc",
   "metadata": {},
   "source": [
    "# ABSTRACTION"
   ]
  },
  {
   "cell_type": "code",
   "execution_count": 8,
   "id": "16c01804-1dec-4ea9-896d-d4f77751a92e",
   "metadata": {},
   "outputs": [
    {
     "data": {
      "text/plain": [
       "'hello i am python'"
      ]
     },
     "execution_count": 8,
     "metadata": {},
     "output_type": "execute_result"
    }
   ],
   "source": [
    "from abc import ABC,abstractmethod\n",
    "\n",
    "# abc is module\n",
    "# ABC is class\n",
    "\n",
    "class parent(ABC):\n",
    "\n",
    "    @abstractmethod\n",
    "    def python(self):\n",
    "        pass\n",
    "\n",
    "class child(parent):\n",
    "    def python(self):\n",
    "        return 'hello i am python'\n",
    "\n",
    "obj=child()\n",
    "obj.python()"
   ]
  },
  {
   "cell_type": "markdown",
   "id": "c319182b-0109-4d65-af0c-7645d444b4d2",
   "metadata": {},
   "source": [
    "# ENCAPSULATION"
   ]
  },
  {
   "cell_type": "markdown",
   "id": "5efaca49-6023-4487-bf69-5ff1648670c4",
   "metadata": {},
   "source": [
    "# providing security to the class properties"
   ]
  },
  {
   "cell_type": "code",
   "execution_count": null,
   "id": "ab2dd356-a5b0-4505-9dac-8abf3c55fbcb",
   "metadata": {},
   "outputs": [],
   "source": [
    "# PUBLIC\n",
    "# PROTECTED\n",
    "# PRIVATE"
   ]
  },
  {
   "cell_type": "markdown",
   "id": "f9a9e60b-abf2-4eee-8112-40b7d4980885",
   "metadata": {},
   "source": [
    "# PUBLIC"
   ]
  },
  {
   "cell_type": "code",
   "execution_count": 11,
   "id": "3cf2b011-c1ba-4888-b3a6-01563df5f03a",
   "metadata": {},
   "outputs": [
    {
     "name": "stdout",
     "output_type": "stream",
     "text": [
      "100\n",
      "this is function\n"
     ]
    }
   ],
   "source": [
    "class hello:\n",
    "    a=100\n",
    "    def add(self):\n",
    "        return 'this is function'\n",
    "\n",
    "obj=hello()\n",
    "print(obj.a)\n",
    "print(obj.add())"
   ]
  },
  {
   "cell_type": "markdown",
   "id": "071fa304-28e0-4887-a705-b38ca4147640",
   "metadata": {},
   "source": [
    "# PROTECTED"
   ]
  },
  {
   "cell_type": "code",
   "execution_count": 13,
   "id": "cff644f0-c746-4579-85a7-afb92f748983",
   "metadata": {},
   "outputs": [
    {
     "name": "stdout",
     "output_type": "stream",
     "text": [
      "100\n",
      "-10\n"
     ]
    }
   ],
   "source": [
    "class hello:\n",
    "    _a=100\n",
    "    def _add(self,a,b):\n",
    "        return a-b\n",
    "\n",
    "obj=hello()\n",
    "print(obj._a)\n",
    "print(obj._add(10,20))"
   ]
  },
  {
   "cell_type": "markdown",
   "id": "bbbbc68a-d403-428b-99c0-3051169d1d25",
   "metadata": {},
   "source": [
    "# PRIVATE"
   ]
  },
  {
   "cell_type": "code",
   "execution_count": 26,
   "id": "a3bbfdcf-9d4e-4939-b813-58a7bbdb0e10",
   "metadata": {},
   "outputs": [
    {
     "name": "stdout",
     "output_type": "stream",
     "text": [
      "100\n",
      "-10\n"
     ]
    }
   ],
   "source": [
    "class hello:\n",
    "    __a=100\n",
    "    def __add(self,a,b):\n",
    "        return a-b\n",
    "\n",
    "obj=hello()\n",
    "print(hello._hello__a)\n",
    "print(obj._hello__add(10,20))"
   ]
  },
  {
   "cell_type": "markdown",
   "id": "44399881-bbb5-48a7-b140-60e90efdffb3",
   "metadata": {},
   "source": [
    "# GENERATOR"
   ]
  },
  {
   "cell_type": "code",
   "execution_count": 32,
   "id": "e8465419-5da7-4d7e-a2ee-d353726c5f44",
   "metadata": {},
   "outputs": [
    {
     "name": "stdout",
     "output_type": "stream",
     "text": [
      "30\n",
      "-10\n",
      "200\n",
      "0.5\n"
     ]
    }
   ],
   "source": [
    "def func(a,b):\n",
    "    yield a+b\n",
    "    yield a-b\n",
    "    yield a*b\n",
    "    yield a/b\n",
    "\n",
    "iterr=func(10,20 ) # gives generator object address\n",
    "print(next(iterr))\n",
    "print(next(iterr))\n",
    "print(next(iterr))\n",
    "print(next(iterr))\n"
   ]
  },
  {
   "cell_type": "markdown",
   "id": "f206287b-2887-47b5-bbb7-5c4d2dfae954",
   "metadata": {},
   "source": [
    "# WAP TO RETURN A ITERATOR WHICH IS HAVING SQARE ROOT OF ALL THE NUMBERS PRESENT INSIDE A LIST"
   ]
  },
  {
   "cell_type": "code",
   "execution_count": 39,
   "id": "64dfff8f-c755-4172-9cda-329266b7e7e6",
   "metadata": {},
   "outputs": [
    {
     "name": "stdout",
     "output_type": "stream",
     "text": [
      "2.0\n",
      "5.0\n",
      "4.0\n"
     ]
    }
   ],
   "source": [
    "ls=[4,25,16]\n",
    "\n",
    "def func(ls):\n",
    "    for i in ls:\n",
    "        yield i**0.5\n",
    "\n",
    "iterr=func(ls)\n",
    "\n",
    "print(next(iterr))\n",
    "print(next(iterr))\n",
    "print(next(iterr))"
   ]
  },
  {
   "cell_type": "markdown",
   "id": "02fc11ff-4468-4086-bee3-cfeea779b5bd",
   "metadata": {},
   "source": [
    "# WAP TO RETURN A ITERATOR HAVING TUPLE OF WORDS\n",
    "# AND ITS LENGHTH PAIR AND TYPECAST INTO DICT FORMAT"
   ]
  },
  {
   "cell_type": "code",
   "execution_count": 45,
   "id": "b0c55338-9282-4762-a6e4-e478296b769b",
   "metadata": {},
   "outputs": [
    {
     "name": "stdout",
     "output_type": "stream",
     "text": [
      "{'jitesh': 6}\n",
      "{'santosh': 7}\n",
      "{'shelke': 6}\n"
     ]
    }
   ],
   "source": [
    "data=('jitesh','santosh','shelke')\n",
    "\n",
    "def func(data):\n",
    "    for i in data:\n",
    "        yield {i:len(i)}\n",
    "iterr = func(data)\n",
    "\n",
    "print(next(iterr))\n",
    "print(next(iterr))\n",
    "print(next(iterr))"
   ]
  },
  {
   "cell_type": "code",
   "execution_count": 8,
   "id": "a25a8f5d-16bb-437f-8fbb-03859112f66d",
   "metadata": {},
   "outputs": [],
   "source": [
    "# import matplotlib.pyplot as plt\n",
    "# def outer(func):\n",
    "#   def inner(path):\n",
    "#     print(\"THIS IS DECORATOR\")\n",
    "#     func(path)\n",
    "#     img=plt.imread(path)\n",
    "#     print(plt.imshow(img))\n",
    "#   return inner\n",
    "\n",
    "\n",
    "# @outer\n",
    "# def printer(path):\n",
    "#   pass\n",
    "\n",
    "# printer(\"BFS.jpg\")"
   ]
  },
  {
   "cell_type": "code",
   "execution_count": null,
   "id": "7601a185-d585-4ad8-a35e-6183fd734710",
   "metadata": {},
   "outputs": [],
   "source": []
  }
 ],
 "metadata": {
  "kernelspec": {
   "display_name": "Python 3 (ipykernel)",
   "language": "python",
   "name": "python3"
  },
  "language_info": {
   "codemirror_mode": {
    "name": "ipython",
    "version": 3
   },
   "file_extension": ".py",
   "mimetype": "text/x-python",
   "name": "python",
   "nbconvert_exporter": "python",
   "pygments_lexer": "ipython3",
   "version": "3.11.9"
  },
  "widgets": {
   "application/vnd.jupyter.widget-state+json": {
    "state": {},
    "version_major": 2,
    "version_minor": 0
   }
  }
 },
 "nbformat": 4,
 "nbformat_minor": 5
}
